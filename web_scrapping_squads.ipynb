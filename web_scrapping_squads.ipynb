{
 "cells": [
  {
   "cell_type": "code",
   "execution_count": 82,
   "id": "64b72c06",
   "metadata": {},
   "outputs": [],
   "source": [
    "import numpy as np\n",
    "import matplotlib.pyplot as plt\n",
    "import pandas as pd\n",
    "#from bs4 import BeautifulSoup\n",
    "import pickle \n",
    "import sqlalchemy as db\n",
    "\n",
    "import traceback\n",
    "import os\n",
    "\n",
    "from selenium.webdriver.common.by import By\n",
    "from selenium.webdriver.chrome.service import Service\n",
    "from selenium.webdriver.chrome.options import Options\n",
    "from selenium import webdriver\n",
    "from time import sleep"
   ]
  },
  {
   "cell_type": "code",
   "execution_count": 9,
   "id": "b8b3ac1b",
   "metadata": {},
   "outputs": [],
   "source": [
    "my_user_agent = \"Mozilla/5.0 (Windows NT 10.0; Win64; x64) AppleWebKit/537.36 (KHTML, like Gecko) Chrome/92.0.4515.159 Safari/537.36\"\n",
    "# Set up Chrome options\n",
    "chrome_options = Options()\n",
    "#chrome_options.add_argument(\"--headless\")\n",
    "\n",
    "# Set the custom User-Agent\n",
    "chrome_options.add_argument(f\"--user-agent={my_user_agent}\")"
   ]
  },
  {
   "cell_type": "code",
   "execution_count": 87,
   "id": "3b17a27c",
   "metadata": {},
   "outputs": [
    {
     "data": {
      "text/plain": [
       "MetaData()"
      ]
     },
     "execution_count": 87,
     "metadata": {},
     "output_type": "execute_result"
    }
   ],
   "source": [
    "db.MetaData()"
   ]
  },
  {
   "cell_type": "code",
   "execution_count": 96,
   "id": "daee109d",
   "metadata": {},
   "outputs": [],
   "source": [
    "user = \"neondb_owner\"\n",
    "password = np.loadtxt(\"./neon_password.txt\", dtype=str)\n",
    "host = \"ep-wild-night-a9bq078j-pooler.gwc.azure.neon.tech\"\n",
    "database = \"xG\"\n",
    "engine = db.create_engine(f'postgresql://{user}:{password}@{host}/{database}')\n",
    "conn = engine.connect()\n"
   ]
  },
  {
   "cell_type": "code",
   "execution_count": 114,
   "id": "c72a4a38",
   "metadata": {},
   "outputs": [
    {
     "name": "stdout",
     "output_type": "stream",
     "text": [
      "['id', 'display_name', 'nationality', 'second_nationality', 'prefered_foot', 'position', 'full_name', 'birth_year', 'height', 'weight']\n"
     ]
    }
   ],
   "source": [
    "meta_data = db.MetaData()\n",
    "meta_data.reflect(bind=engine) #extracting the metadata\n",
    "players = db.Table('players', meta_data, \n",
    "                   autoload_with=engine)\n",
    "#print(repr(metadata.tables['players']))\n",
    "print(players.columns.keys())"
   ]
  },
  {
   "cell_type": "code",
   "execution_count": 126,
   "id": "458c8048",
   "metadata": {},
   "outputs": [
    {
     "ename": "ArgumentError",
     "evalue": "SQL expression element expected, got Table('players', MetaData(), Column('id', INTEGER(), table=<players>, primary_key=True, nullable=False), Column('display_name', VARCHAR(length=255), table=<players>, nullable=False), Column('nationality', VARCHAR(length=255), table=<players>, nullable=False), Column('second_nationality', VARCHAR(length=255), table=<players>), Column('prefered_foot', VARCHAR(length=255), table=<players>, nullable=False), Column('position', VARCHAR(length=255), table=<players>, nullable=False), Column('full_name', VARCHAR(length=255), table=<players>), Column('birth_year', INTEGER(), table=<players>), Column('height', NUMERIC(), table=<players>), Column('weight', NUMERIC(), table=<players>), schema=None). To create a column expression from a FROM clause row as a whole, use the .table_valued() method.",
     "output_type": "error",
     "traceback": [
      "\u001b[31m---------------------------------------------------------------------------\u001b[39m",
      "\u001b[31mArgumentError\u001b[39m                             Traceback (most recent call last)",
      "\u001b[36mCell\u001b[39m\u001b[36m \u001b[39m\u001b[32mIn[126]\u001b[39m\u001b[32m, line 1\u001b[39m\n\u001b[32m----> \u001b[39m\u001b[32m1\u001b[39m query = db.select(\u001b[43mdb\u001b[49m\u001b[43m.\u001b[49m\u001b[43mfunc\u001b[49m\u001b[43m.\u001b[49m\u001b[43mcount\u001b[49m\u001b[43m(\u001b[49m\u001b[43mplayers\u001b[49m\u001b[43m)\u001b[49m)\n\u001b[32m      3\u001b[39m \u001b[38;5;28mprint\u001b[39m(query)\n",
      "\u001b[36mFile \u001b[39m\u001b[32mc:\\Users\\ruilo\\miniconda3\\envs\\football\\Lib\\site-packages\\sqlalchemy\\sql\\functions.py:974\u001b[39m, in \u001b[36m_FunctionGenerator.__call__\u001b[39m\u001b[34m(self, *c, **kwargs)\u001b[39m\n\u001b[32m    972\u001b[39m     func = _registry[package].get(fname.lower())\n\u001b[32m    973\u001b[39m     \u001b[38;5;28;01mif\u001b[39;00m func \u001b[38;5;129;01mis\u001b[39;00m \u001b[38;5;129;01mnot\u001b[39;00m \u001b[38;5;28;01mNone\u001b[39;00m:\n\u001b[32m--> \u001b[39m\u001b[32m974\u001b[39m         \u001b[38;5;28;01mreturn\u001b[39;00m \u001b[43mfunc\u001b[49m\u001b[43m(\u001b[49m\u001b[43m*\u001b[49m\u001b[43mc\u001b[49m\u001b[43m,\u001b[49m\u001b[43m \u001b[49m\u001b[43m*\u001b[49m\u001b[43m*\u001b[49m\u001b[43mo\u001b[49m\u001b[43m)\u001b[49m\n\u001b[32m    976\u001b[39m \u001b[38;5;28;01mreturn\u001b[39;00m Function(\n\u001b[32m    977\u001b[39m     \u001b[38;5;28mself\u001b[39m.__names[-\u001b[32m1\u001b[39m], packagenames=\u001b[38;5;28mtuple\u001b[39m(\u001b[38;5;28mself\u001b[39m.__names[\u001b[32m0\u001b[39m:-\u001b[32m1\u001b[39m]), *c, **o\n\u001b[32m    978\u001b[39m )\n",
      "\u001b[36mFile \u001b[39m\u001b[32mc:\\Users\\ruilo\\miniconda3\\envs\\football\\Lib\\site-packages\\sqlalchemy\\sql\\functions.py:1780\u001b[39m, in \u001b[36mcount.__init__\u001b[39m\u001b[34m(self, expression, **kwargs)\u001b[39m\n\u001b[32m   1778\u001b[39m \u001b[38;5;28;01mif\u001b[39;00m expression \u001b[38;5;129;01mis\u001b[39;00m \u001b[38;5;28;01mNone\u001b[39;00m:\n\u001b[32m   1779\u001b[39m     expression = literal_column(\u001b[33m\"\u001b[39m\u001b[33m*\u001b[39m\u001b[33m\"\u001b[39m)\n\u001b[32m-> \u001b[39m\u001b[32m1780\u001b[39m \u001b[38;5;28;43msuper\u001b[39;49m\u001b[43m(\u001b[49m\u001b[43m)\u001b[49m\u001b[43m.\u001b[49m\u001b[34;43m__init__\u001b[39;49m\u001b[43m(\u001b[49m\u001b[43mexpression\u001b[49m\u001b[43m,\u001b[49m\u001b[43m \u001b[49m\u001b[43m*\u001b[49m\u001b[43m*\u001b[49m\u001b[43mkwargs\u001b[49m\u001b[43m)\u001b[49m\n",
      "\u001b[36mFile \u001b[39m\u001b[32mc:\\Users\\ruilo\\miniconda3\\envs\\football\\Lib\\site-packages\\sqlalchemy\\sql\\functions.py:1537\u001b[39m, in \u001b[36mGenericFunction.__init__\u001b[39m\u001b[34m(self, *args, **kwargs)\u001b[39m\n\u001b[32m   1534\u001b[39m parsed_args = kwargs.pop(\u001b[33m\"\u001b[39m\u001b[33m_parsed_args\u001b[39m\u001b[33m\"\u001b[39m, \u001b[38;5;28;01mNone\u001b[39;00m)\n\u001b[32m   1535\u001b[39m \u001b[38;5;28;01mif\u001b[39;00m parsed_args \u001b[38;5;129;01mis\u001b[39;00m \u001b[38;5;28;01mNone\u001b[39;00m:\n\u001b[32m   1536\u001b[39m     parsed_args = [\n\u001b[32m-> \u001b[39m\u001b[32m1537\u001b[39m         \u001b[43mcoercions\u001b[49m\u001b[43m.\u001b[49m\u001b[43mexpect\u001b[49m\u001b[43m(\u001b[49m\n\u001b[32m   1538\u001b[39m \u001b[43m            \u001b[49m\u001b[43mroles\u001b[49m\u001b[43m.\u001b[49m\u001b[43mExpressionElementRole\u001b[49m\u001b[43m,\u001b[49m\n\u001b[32m   1539\u001b[39m \u001b[43m            \u001b[49m\u001b[43mc\u001b[49m\u001b[43m,\u001b[49m\n\u001b[32m   1540\u001b[39m \u001b[43m            \u001b[49m\u001b[43mname\u001b[49m\u001b[43m=\u001b[49m\u001b[38;5;28;43mself\u001b[39;49m\u001b[43m.\u001b[49m\u001b[43mname\u001b[49m\u001b[43m,\u001b[49m\n\u001b[32m   1541\u001b[39m \u001b[43m            \u001b[49m\u001b[43mapply_propagate_attrs\u001b[49m\u001b[43m=\u001b[49m\u001b[38;5;28;43mself\u001b[39;49m\u001b[43m,\u001b[49m\n\u001b[32m   1542\u001b[39m \u001b[43m        \u001b[49m\u001b[43m)\u001b[49m\n\u001b[32m   1543\u001b[39m         \u001b[38;5;28;01mfor\u001b[39;00m c \u001b[38;5;129;01min\u001b[39;00m args\n\u001b[32m   1544\u001b[39m     ]\n\u001b[32m   1545\u001b[39m \u001b[38;5;28mself\u001b[39m._has_args = \u001b[38;5;28mself\u001b[39m._has_args \u001b[38;5;129;01mor\u001b[39;00m \u001b[38;5;28mbool\u001b[39m(parsed_args)\n\u001b[32m   1546\u001b[39m \u001b[38;5;28mself\u001b[39m.packagenames = ()\n",
      "\u001b[36mFile \u001b[39m\u001b[32mc:\\Users\\ruilo\\miniconda3\\envs\\football\\Lib\\site-packages\\sqlalchemy\\sql\\coercions.py:424\u001b[39m, in \u001b[36mexpect\u001b[39m\u001b[34m(role, element, apply_propagate_attrs, argname, post_inspect, disable_inspection, **kw)\u001b[39m\n\u001b[32m    422\u001b[39m     \u001b[38;5;28;01mreturn\u001b[39;00m resolved\n\u001b[32m    423\u001b[39m \u001b[38;5;28;01melse\u001b[39;00m:\n\u001b[32m--> \u001b[39m\u001b[32m424\u001b[39m     \u001b[38;5;28;01mreturn\u001b[39;00m \u001b[43mimpl\u001b[49m\u001b[43m.\u001b[49m\u001b[43m_implicit_coercions\u001b[49m\u001b[43m(\u001b[49m\n\u001b[32m    425\u001b[39m \u001b[43m        \u001b[49m\u001b[43moriginal_element\u001b[49m\u001b[43m,\u001b[49m\u001b[43m \u001b[49m\u001b[43mresolved\u001b[49m\u001b[43m,\u001b[49m\u001b[43m \u001b[49m\u001b[43margname\u001b[49m\u001b[43m=\u001b[49m\u001b[43margname\u001b[49m\u001b[43m,\u001b[49m\u001b[43m \u001b[49m\u001b[43m*\u001b[49m\u001b[43m*\u001b[49m\u001b[43mkw\u001b[49m\n\u001b[32m    426\u001b[39m \u001b[43m    \u001b[49m\u001b[43m)\u001b[49m\n",
      "\u001b[36mFile \u001b[39m\u001b[32mc:\\Users\\ruilo\\miniconda3\\envs\\football\\Lib\\site-packages\\sqlalchemy\\sql\\coercions.py:574\u001b[39m, in \u001b[36m_ColumnCoercions._implicit_coercions\u001b[39m\u001b[34m(self, element, resolved, argname, **kw)\u001b[39m\n\u001b[32m    572\u001b[39m     \u001b[38;5;28;01mreturn\u001b[39;00m resolved\n\u001b[32m    573\u001b[39m \u001b[38;5;28;01melse\u001b[39;00m:\n\u001b[32m--> \u001b[39m\u001b[32m574\u001b[39m     \u001b[38;5;28;43mself\u001b[39;49m\u001b[43m.\u001b[49m\u001b[43m_raise_for_expected\u001b[49m\u001b[43m(\u001b[49m\u001b[43moriginal_element\u001b[49m\u001b[43m,\u001b[49m\u001b[43m \u001b[49m\u001b[43margname\u001b[49m\u001b[43m,\u001b[49m\u001b[43m \u001b[49m\u001b[43mresolved\u001b[49m\u001b[43m)\u001b[49m\n",
      "\u001b[36mFile \u001b[39m\u001b[32mc:\\Users\\ruilo\\miniconda3\\envs\\football\\Lib\\site-packages\\sqlalchemy\\sql\\coercions.py:784\u001b[39m, in \u001b[36mExpressionElementImpl._raise_for_expected\u001b[39m\u001b[34m(self, element, argname, resolved, **kw)\u001b[39m\n\u001b[32m    781\u001b[39m \u001b[38;5;28;01melse\u001b[39;00m:\n\u001b[32m    782\u001b[39m     advice = \u001b[38;5;28;01mNone\u001b[39;00m\n\u001b[32m--> \u001b[39m\u001b[32m784\u001b[39m \u001b[38;5;28;01mreturn\u001b[39;00m \u001b[38;5;28;43msuper\u001b[39;49m\u001b[43m(\u001b[49m\u001b[43m)\u001b[49m\u001b[43m.\u001b[49m\u001b[43m_raise_for_expected\u001b[49m\u001b[43m(\u001b[49m\n\u001b[32m    785\u001b[39m \u001b[43m    \u001b[49m\u001b[43melement\u001b[49m\u001b[43m,\u001b[49m\u001b[43m \u001b[49m\u001b[43margname\u001b[49m\u001b[43m=\u001b[49m\u001b[43margname\u001b[49m\u001b[43m,\u001b[49m\u001b[43m \u001b[49m\u001b[43mresolved\u001b[49m\u001b[43m=\u001b[49m\u001b[43mresolved\u001b[49m\u001b[43m,\u001b[49m\u001b[43m \u001b[49m\u001b[43madvice\u001b[49m\u001b[43m=\u001b[49m\u001b[43madvice\u001b[49m\u001b[43m,\u001b[49m\u001b[43m \u001b[49m\u001b[43m*\u001b[49m\u001b[43m*\u001b[49m\u001b[43mkw\u001b[49m\n\u001b[32m    786\u001b[39m \u001b[43m\u001b[49m\u001b[43m)\u001b[49m\n",
      "\u001b[36mFile \u001b[39m\u001b[32mc:\\Users\\ruilo\\miniconda3\\envs\\football\\Lib\\site-packages\\sqlalchemy\\sql\\coercions.py:518\u001b[39m, in \u001b[36mRoleImpl._raise_for_expected\u001b[39m\u001b[34m(self, element, argname, resolved, advice, code, err, **kw)\u001b[39m\n\u001b[32m    515\u001b[39m \u001b[38;5;28;01mif\u001b[39;00m advice:\n\u001b[32m    516\u001b[39m     msg += \u001b[33m\"\u001b[39m\u001b[33m \u001b[39m\u001b[33m\"\u001b[39m + advice\n\u001b[32m--> \u001b[39m\u001b[32m518\u001b[39m \u001b[38;5;28;01mraise\u001b[39;00m exc.ArgumentError(msg, code=code) \u001b[38;5;28;01mfrom\u001b[39;00m\u001b[38;5;250m \u001b[39m\u001b[34;01merr\u001b[39;00m\n",
      "\u001b[31mArgumentError\u001b[39m: SQL expression element expected, got Table('players', MetaData(), Column('id', INTEGER(), table=<players>, primary_key=True, nullable=False), Column('display_name', VARCHAR(length=255), table=<players>, nullable=False), Column('nationality', VARCHAR(length=255), table=<players>, nullable=False), Column('second_nationality', VARCHAR(length=255), table=<players>), Column('prefered_foot', VARCHAR(length=255), table=<players>, nullable=False), Column('position', VARCHAR(length=255), table=<players>, nullable=False), Column('full_name', VARCHAR(length=255), table=<players>), Column('birth_year', INTEGER(), table=<players>), Column('height', NUMERIC(), table=<players>), Column('weight', NUMERIC(), table=<players>), schema=None). To create a column expression from a FROM clause row as a whole, use the .table_valued() method."
     ]
    }
   ],
   "source": [
    "query = db.select(db.func.count(players))\n",
    "                    \n",
    "print(query)"
   ]
  },
  {
   "cell_type": "code",
   "execution_count": null,
   "id": "892364f3",
   "metadata": {},
   "outputs": [],
   "source": []
  },
  {
   "cell_type": "code",
   "execution_count": 121,
   "id": "90d37114",
   "metadata": {},
   "outputs": [
    {
     "name": "stdout",
     "output_type": "stream",
     "text": [
      "[('Ander Astralaga Aranguren',), ('Ignacio Peña Sostres',), ('Wojciech Tomasz Szczęsny',), ('Diego Kochen',), ('Áron Yaakobishvili',)]\n"
     ]
    }
   ],
   "source": [
    "try:\n",
    "    exe = conn.execute(query) #executing the query\n",
    "    result = exe.fetchmany(5) #extracting top 5 results\n",
    "    print(result)\n",
    "except:\n",
    "    print(traceback.format_exc())\n",
    "    conn.rollback()"
   ]
  },
  {
   "cell_type": "code",
   "execution_count": 122,
   "id": "6428f834",
   "metadata": {},
   "outputs": [
    {
     "data": {
      "text/html": [
       "<div>\n",
       "<style scoped>\n",
       "    .dataframe tbody tr th:only-of-type {\n",
       "        vertical-align: middle;\n",
       "    }\n",
       "\n",
       "    .dataframe tbody tr th {\n",
       "        vertical-align: top;\n",
       "    }\n",
       "\n",
       "    .dataframe thead th {\n",
       "        text-align: right;\n",
       "    }\n",
       "</style>\n",
       "<table border=\"1\" class=\"dataframe\">\n",
       "  <thead>\n",
       "    <tr style=\"text-align: right;\">\n",
       "      <th></th>\n",
       "      <th>full_name</th>\n",
       "    </tr>\n",
       "  </thead>\n",
       "  <tbody>\n",
       "    <tr>\n",
       "      <th>0</th>\n",
       "      <td>Ander Astralaga Aranguren</td>\n",
       "    </tr>\n",
       "    <tr>\n",
       "      <th>1</th>\n",
       "      <td>Ignacio Peña Sostres</td>\n",
       "    </tr>\n",
       "    <tr>\n",
       "      <th>2</th>\n",
       "      <td>Wojciech Tomasz Szczęsny</td>\n",
       "    </tr>\n",
       "    <tr>\n",
       "      <th>3</th>\n",
       "      <td>Diego Kochen</td>\n",
       "    </tr>\n",
       "    <tr>\n",
       "      <th>4</th>\n",
       "      <td>Áron Yaakobishvili</td>\n",
       "    </tr>\n",
       "  </tbody>\n",
       "</table>\n",
       "</div>"
      ],
      "text/plain": [
       "                   full_name\n",
       "0  Ander Astralaga Aranguren\n",
       "1       Ignacio Peña Sostres\n",
       "2   Wojciech Tomasz Szczęsny\n",
       "3               Diego Kochen\n",
       "4         Áron Yaakobishvili"
      ]
     },
     "execution_count": 122,
     "metadata": {},
     "output_type": "execute_result"
    }
   ],
   "source": [
    "data = pd.DataFrame(result)\n",
    "#data.columns = result[0].keys()\n",
    "data"
   ]
  },
  {
   "cell_type": "code",
   "execution_count": null,
   "id": "e41bca96",
   "metadata": {},
   "outputs": [],
   "source": []
  }
 ],
 "metadata": {
  "kernelspec": {
   "display_name": "football",
   "language": "python",
   "name": "python3"
  },
  "language_info": {
   "codemirror_mode": {
    "name": "ipython",
    "version": 3
   },
   "file_extension": ".py",
   "mimetype": "text/x-python",
   "name": "python",
   "nbconvert_exporter": "python",
   "pygments_lexer": "ipython3",
   "version": "3.13.5"
  }
 },
 "nbformat": 4,
 "nbformat_minor": 5
}
