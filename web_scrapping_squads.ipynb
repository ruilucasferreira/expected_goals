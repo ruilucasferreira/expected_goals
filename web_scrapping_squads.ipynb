{
 "cells": [
  {
   "cell_type": "code",
   "execution_count": 18,
   "id": "64b72c06",
   "metadata": {},
   "outputs": [],
   "source": [
    "import numpy as np\n",
    "import matplotlib.pyplot as plt\n",
    "import pandas as pd\n",
    "#from bs4 import BeautifulSoup\n",
    "import pickle \n",
    "import sqlalchemy as db\n",
    "\n",
    "import traceback\n",
    "import os\n",
    "\n",
    "from selenium.webdriver.common.by import By\n",
    "from selenium.webdriver.firefox.service import Service\n",
    "from selenium.webdriver.firefox.options import Options\n",
    "from selenium import webdriver\n",
    "from time import sleep"
   ]
  },
  {
   "cell_type": "code",
   "execution_count": null,
   "id": "0a9bce72",
   "metadata": {},
   "outputs": [],
   "source": [
    "season = 2024 #2024-2025\n",
    "country = \"Portugal\"\n",
    "league_url = f\"https://www.transfermarkt.pt/liga-portugal/startseite/wettbewerb/PO1/plus/?saison_id={season}\"\n"
   ]
  },
  {
   "cell_type": "code",
   "execution_count": null,
   "id": "b8b3ac1b",
   "metadata": {},
   "outputs": [],
   "source": [
    "my_user_agent = \"Mozilla/5.0 (Windows NT 10.0; Win64; x64; rv:92.0) Gecko/20100101 Firefox/92.0\"\n",
    "firefox_options = Options()\n",
    "firefox_options.binary_location = \"C:\\\\Program Files\\\\LibreWolf\\\\librewolf.exe\"  # Adjust if needed\n",
    "#firefox_options.add_argument(\"--headless\")\n",
    "\n",
    "# Set the custom User-Agent\n",
    "firefox_options.add_argument(f\"--user-agent={my_user_agent}\")\n",
    "\n",
    "service = Service(executable_path=\"C:\\\\Program Files\\\\GeckoDriver\\\\geckodriver-unchained-win-0.36.0-ff-143.0.exe\")\n"
   ]
  },
  {
   "cell_type": "code",
   "execution_count": 26,
   "id": "daee109d",
   "metadata": {},
   "outputs": [],
   "source": [
    "user = \"neondb_owner\"\n",
    "password = np.loadtxt(\"./neon_password.txt\", dtype=str)\n",
    "host = \"ep-wild-night-a9bq078j-pooler.gwc.azure.neon.tech\"\n",
    "database = \"xG\"\n",
    "engine = db.create_engine(f'postgresql://{user}:{password}@{host}/{database}')\n",
    "conn = engine.connect()\n"
   ]
  },
  {
   "cell_type": "code",
   "execution_count": 27,
   "id": "c72a4a38",
   "metadata": {},
   "outputs": [
    {
     "name": "stdout",
     "output_type": "stream",
     "text": [
      "['id', 'display_name', 'nationality', 'second_nationality', 'prefered_foot', 'position', 'full_name', 'birth_year', 'height', 'weight']\n"
     ]
    }
   ],
   "source": [
    "meta_data = db.MetaData()\n",
    "meta_data.reflect(bind=engine) #extracting the metadata\n",
    "players = db.Table('players', meta_data, \n",
    "                   autoload_with=engine)\n",
    "#print(repr(metadata.tables['players']))\n",
    "print(players.columns.keys())"
   ]
  },
  {
   "cell_type": "code",
   "execution_count": 28,
   "id": "892364f3",
   "metadata": {},
   "outputs": [
    {
     "name": "stdout",
     "output_type": "stream",
     "text": [
      "SELECT players.id, players.display_name, players.nationality, players.second_nationality, players.prefered_foot, players.position, players.full_name, players.birth_year, players.height, players.weight \n",
      "FROM players \n",
      "WHERE players.position = :position_1\n"
     ]
    }
   ],
   "source": [
    "stmt = db.select(players).where(players.c.position == \"Guarda Redes\")\n",
    "print(stmt)\n",
    "with engine.connect() as conn:\n",
    "    #print(\"Start\")\n",
    "    for i, row in enumerate( conn.execute(stmt) ):\n",
    "        pass\n",
    "        #print(i)\n",
    "        #print(row)\n",
    "    #print(\"End\")"
   ]
  },
  {
   "cell_type": "code",
   "execution_count": null,
   "id": "2db34ca5",
   "metadata": {},
   "outputs": [],
   "source": [
    "driver = webdriver.Firefox(service=service, options=firefox_options)\n",
    "driver.get(league_url)\n",
    "sleep(1)\n",
    "\n",
    "\n",
    "club_rows = driver.find_elements(By.CSS_SELECTOR, \n",
    "                                 \"table.items > tbody > tr.odd, table.items > tbody > tr.even\")\n",
    "\n",
    "team_names = np.array([row.find_elements(By.TAG_NAME, \"a\")[0].get_attribute(\"title\") for row in club_rows])\n",
    "team_links = np.array([row.find_elements(By.TAG_NAME, \"a\")[0].get_attribute(\"href\") for row in club_rows])\n",
    "team_links = team_links[team_names != \"\"]\n",
    "team_names = team_names[team_names != \"\"]\n",
    "\n",
    "driver.close()"
   ]
  },
  {
   "cell_type": "code",
   "execution_count": null,
   "id": "ae7a50b5",
   "metadata": {},
   "outputs": [],
   "source": [
    "for i in range(len(team_names)):\n",
    "    driver.get(league_url)\n",
    "\n",
    "    pass\n"
   ]
  },
  {
   "cell_type": "code",
   "execution_count": 144,
   "id": "1e8c126a",
   "metadata": {},
   "outputs": [],
   "source": [
    "if True:\n",
    "    i = 5\n",
    "    driver = webdriver.Firefox(service=service, options=firefox_options)\n",
    "    driver.get(team_links[i])"
   ]
  },
  {
   "cell_type": "code",
   "execution_count": 136,
   "id": "af36286f",
   "metadata": {},
   "outputs": [
    {
     "data": {
      "text/plain": [
       "np.str_('https://www.transfermarkt.pt/sporting-lissabon/startseite/verein/336/saison_id/2024')"
      ]
     },
     "execution_count": 136,
     "metadata": {},
     "output_type": "execute_result"
    }
   ],
   "source": [
    "team_links[0]"
   ]
  },
  {
   "cell_type": "code",
   "execution_count": null,
   "id": "c1dca75d",
   "metadata": {},
   "outputs": [],
   "source": []
  }
 ],
 "metadata": {
  "kernelspec": {
   "display_name": "football",
   "language": "python",
   "name": "python3"
  },
  "language_info": {
   "codemirror_mode": {
    "name": "ipython",
    "version": 3
   },
   "file_extension": ".py",
   "mimetype": "text/x-python",
   "name": "python",
   "nbconvert_exporter": "python",
   "pygments_lexer": "ipython3",
   "version": "3.13.5"
  }
 },
 "nbformat": 4,
 "nbformat_minor": 5
}
