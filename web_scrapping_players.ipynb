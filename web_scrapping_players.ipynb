{
 "cells": [
  {
   "cell_type": "code",
   "execution_count": 1,
   "id": "ee5e1979",
   "metadata": {},
   "outputs": [],
   "source": [
    "#import pytest\n",
    "import numpy as np\n",
    "import matplotlib.pyplot as plt\n",
    "import pandas as pd\n",
    "from bs4 import BeautifulSoup\n",
    "import pickle \n",
    "from sqlalchemy import create_engine, text\n",
    "\n",
    "import os\n",
    "\n",
    "from selenium.webdriver.common.by import By\n",
    "from selenium.webdriver.chrome.service import Service\n",
    "from selenium.webdriver.chrome.options import Options\n",
    "from selenium import webdriver\n",
    "from time import sleep"
   ]
  },
  {
   "cell_type": "code",
   "execution_count": 2,
   "id": "1c0edf40",
   "metadata": {},
   "outputs": [],
   "source": [
    "my_user_agent = \"Mozilla/5.0 (Windows NT 10.0; Win64; x64) AppleWebKit/537.36 (KHTML, like Gecko) Chrome/92.0.4515.159 Safari/537.36\"\n",
    "# Set up Chrome options\n",
    "chrome_options = Options()\n",
    "#chrome_options.add_argument(\"--headless\")\n",
    "\n",
    "# Set the custom User-Agent\n",
    "chrome_options.add_argument(f\"--user-agent={my_user_agent}\")"
   ]
  },
  {
   "cell_type": "code",
   "execution_count": 3,
   "id": "f892bef4",
   "metadata": {},
   "outputs": [
    {
     "name": "stdout",
     "output_type": "stream",
     "text": [
      "689\n"
     ]
    }
   ],
   "source": [
    "user = \"neondb_owner\"\n",
    "password = np.loadtxt(\"./neon_password.txt\", dtype=str)\n",
    "host = \"ep-wild-night-a9bq078j-pooler.gwc.azure.neon.tech\"\n",
    "db = \"xG\"\n",
    "engine = create_engine(f'postgresql://{user}:{password}@{host}/{db}')\n",
    "conn = engine.connect()\n",
    "query = text(\"SELECT count(*) FROM players\")\n",
    "exe = conn.execute(query) \n",
    "\n",
    "players = pd.read_sql(\"players\", con=engine)\n",
    "row_count = players.id.max()\n",
    "\n",
    "print(row_count)"
   ]
  },
  {
   "cell_type": "code",
   "execution_count": 4,
   "id": "af06b74e",
   "metadata": {},
   "outputs": [],
   "source": [
    "def get_team_quantities(driver):\n",
    "    weight = 0\n",
    "    height = 0\n",
    "    nat2 = \"NA\"\n",
    "    display_name = driver.find_element(By.XPATH, \"/html/body/div[8]/div[3]/div[4]/div/div/div[1]/div[2]/h1/span\").text\n",
    "    if display_name[2] == \".\":\n",
    "        display_name = display_name[3:-10]\n",
    "    else:\n",
    "        display_name = display_name[2:-10]\n",
    "    bio = driver.find_element(By.XPATH, \"/html/body/div[8]/div[3]/div[5]/div/div/div[2]/div[1]/div\").text\n",
    "    biostr = bio.split(\"\\n\")\n",
    "    for i in range(len(biostr)):\n",
    "        if biostr[i] == \"NACIONALIDADE\":\n",
    "            nat1 = biostr[i+1]\n",
    "        elif biostr[i] == \"DUPLA NACIONALIDADE\":\n",
    "            nat2 = biostr[i+1]\n",
    "        elif biostr[i] == \"NOME\":\n",
    "            full_name = biostr[i+1]\n",
    "        elif biostr[i] == \"POSIÇÃO\":\n",
    "            position = biostr[i+1]\n",
    "        elif biostr[i] == \"NASCIMENTO/IDADE\":\n",
    "            birth_year = biostr[i+1][:4]\n",
    "        elif biostr[i] == \"PÉ PREFERENCIAL\":\n",
    "            foot = biostr[i+1]\n",
    "        elif biostr[i] == \"ALTURA\":\n",
    "            height = biostr[i+1][:-3]\n",
    "        elif biostr[i] == \"PESO\":\n",
    "            weight = biostr[i+1][:-3]\n",
    "            \n",
    "    return np.array([display_name, birth_year, nat1, nat2, foot, \n",
    "                     position, full_name, height, weight])"
   ]
  },
  {
   "cell_type": "code",
   "execution_count": 5,
   "id": "3acf67e2",
   "metadata": {},
   "outputs": [],
   "source": [
    "league_url = \"https://www.zerozero.pt/edicao/liga-portugal-betclic-2024-25/187713\"\n"
   ]
  },
  {
   "cell_type": "code",
   "execution_count": 6,
   "id": "cfafe534",
   "metadata": {},
   "outputs": [],
   "source": [
    "service = Service(executable_path=\"/usr/local/bin/chromedriver-linux64/chromedriver\")\n",
    "driver = webdriver.Chrome(service=service, options=chrome_options)\n",
    "driver.get(league_url)\n",
    "sleep(1)\n",
    "\n",
    "no_notifs = \"/html/body/div[12]/div/div[3]/div/button[1]\"\n",
    "cookies = \"/html/body/div[1]/div/div/div/div/div/div[2]/button[2]\"\n",
    "\n",
    "while len(driver.find_elements(By.XPATH, no_notifs)) == 0:\n",
    "    sleep(0.1)\n",
    "if len(driver.find_elements(By.XPATH, no_notifs)) != 0:\n",
    "    button = driver.find_element(By.XPATH, no_notifs)\n",
    "    button.click()\n",
    "    sleep(0.5)\n",
    "if len(driver.find_elements(By.XPATH, cookies)) != 0:\n",
    "    button = driver.find_element(By.XPATH, cookies)\n",
    "    button.click()\n",
    "    sleep(0.5)\n"
   ]
  },
  {
   "cell_type": "code",
   "execution_count": 7,
   "id": "d7836bbe",
   "metadata": {},
   "outputs": [],
   "source": [
    "table_xpath = \"/html/body/div[8]/div[3]/div[6]/div/div/div[1]/div[2]/table/tbody/tr/td/div[1]/div/table/tbody\"\n",
    "body = driver.find_element(By.XPATH, table_xpath)\n",
    "\n",
    "rows = body.find_elements(By.TAG_NAME, \"tr\")\n",
    "team_urls = [ rows[i].find_elements(By.TAG_NAME, \"a\")[1].get_attribute(\"href\") for i in range(len(rows)) ]\n",
    "\n",
    "driver.close()"
   ]
  },
  {
   "cell_type": "code",
   "execution_count": 8,
   "id": "7071eba6",
   "metadata": {},
   "outputs": [
    {
     "data": {
      "text/plain": [
       "['https://www.zerozero.pt/equipa/farense/10?epoca_id=154']"
      ]
     },
     "execution_count": 8,
     "metadata": {},
     "output_type": "execute_result"
    }
   ],
   "source": [
    "team_urls[16:17]"
   ]
  },
  {
   "cell_type": "code",
   "execution_count": 9,
   "id": "f29f4788",
   "metadata": {},
   "outputs": [
    {
     "ename": "StaleElementReferenceException",
     "evalue": "Message: stale element reference: stale element not found\n  (Session info: chrome=139.0.7258.154); For documentation on this error, please visit: https://www.selenium.dev/documentation/webdriver/troubleshooting/errors#stale-element-reference-exception\nStacktrace:\n#0 0x5bd78a3fd1da <unknown>\n#1 0x5bd789ea3780 <unknown>\n#2 0x5bd789eb6dbb <unknown>\n#3 0x5bd789eb5b72 <unknown>\n#4 0x5bd789eaacd9 <unknown>\n#5 0x5bd789ea8f1f <unknown>\n#6 0x5bd789eacc58 <unknown>\n#7 0x5bd789eacce3 <unknown>\n#8 0x5bd789ef4d25 <unknown>\n#9 0x5bd789ef54e1 <unknown>\n#10 0x5bd789ee8f76 <unknown>\n#11 0x5bd789f1adcd <unknown>\n#12 0x5bd789ee8e6a <unknown>\n#13 0x5bd789f1af6e <unknown>\n#14 0x5bd789f40bfc <unknown>\n#15 0x5bd789f1ab73 <unknown>\n#16 0x5bd789ee76e3 <unknown>\n#17 0x5bd789ee8331 <unknown>\n#18 0x5bd78a3c302b <unknown>\n#19 0x5bd78a3c6e1e <unknown>\n#20 0x5bd78a3a9f99 <unknown>\n#21 0x5bd78a3c79e8 <unknown>\n#22 0x5bd78a38e92f <unknown>\n#23 0x5bd78a3ea788 <unknown>\n#24 0x5bd78a3ea966 <unknown>\n#25 0x5bd78a3fc4f6 <unknown>\n#26 0x7b4142e9caa4 <unknown>\n#27 0x7b4142f29c3c <unknown>\n",
     "output_type": "error",
     "traceback": [
      "\u001b[31m---------------------------------------------------------------------------\u001b[39m",
      "\u001b[31mStaleElementReferenceException\u001b[39m            Traceback (most recent call last)",
      "\u001b[36mCell\u001b[39m\u001b[36m \u001b[39m\u001b[32mIn[9]\u001b[39m\u001b[32m, line 29\u001b[39m\n\u001b[32m     26\u001b[39m \u001b[38;5;66;03m#player = players[0]\u001b[39;00m\n\u001b[32m     27\u001b[39m \u001b[38;5;28;01mfor\u001b[39;00m player \u001b[38;5;129;01min\u001b[39;00m players:\n\u001b[32m     28\u001b[39m \u001b[38;5;66;03m#if True:\u001b[39;00m\n\u001b[32m---> \u001b[39m\u001b[32m29\u001b[39m     \u001b[43mplayer\u001b[49m\u001b[43m.\u001b[49m\u001b[43mfind_element\u001b[49m\u001b[43m(\u001b[49m\u001b[43mBy\u001b[49m\u001b[43m.\u001b[49m\u001b[43mCLASS_NAME\u001b[49m\u001b[43m,\u001b[49m\u001b[43m \u001b[49m\u001b[33;43m\"\u001b[39;49m\u001b[33;43mtext\u001b[39;49m\u001b[33;43m\"\u001b[39;49m\u001b[43m)\u001b[49m.click()\n\u001b[32m     30\u001b[39m     cnt = \u001b[32m0\u001b[39m\n\u001b[32m     31\u001b[39m     \u001b[38;5;28;01mwhile\u001b[39;00m \u001b[38;5;28mlen\u001b[39m(driver.find_elements(By.XPATH, no_notifs)) == \u001b[32m0\u001b[39m \u001b[38;5;129;01mand\u001b[39;00m cnt < \u001b[32m5\u001b[39m:\n",
      "\u001b[36mFile \u001b[39m\u001b[32m~/anaconda3/envs/football/lib/python3.13/site-packages/selenium/webdriver/remote/webelement.py:417\u001b[39m, in \u001b[36mWebElement.find_element\u001b[39m\u001b[34m(self, by, value)\u001b[39m\n\u001b[32m    414\u001b[39m     by = By.CSS_SELECTOR\n\u001b[32m    415\u001b[39m     value = \u001b[33mf\u001b[39m\u001b[33m'\u001b[39m\u001b[33m[name=\u001b[39m\u001b[33m\"\u001b[39m\u001b[38;5;132;01m{\u001b[39;00mvalue\u001b[38;5;132;01m}\u001b[39;00m\u001b[33m\"\u001b[39m\u001b[33m]\u001b[39m\u001b[33m'\u001b[39m\n\u001b[32m--> \u001b[39m\u001b[32m417\u001b[39m \u001b[38;5;28;01mreturn\u001b[39;00m \u001b[38;5;28;43mself\u001b[39;49m\u001b[43m.\u001b[49m\u001b[43m_execute\u001b[49m\u001b[43m(\u001b[49m\u001b[43mCommand\u001b[49m\u001b[43m.\u001b[49m\u001b[43mFIND_CHILD_ELEMENT\u001b[49m\u001b[43m,\u001b[49m\u001b[43m \u001b[49m\u001b[43m{\u001b[49m\u001b[33;43m\"\u001b[39;49m\u001b[33;43musing\u001b[39;49m\u001b[33;43m\"\u001b[39;49m\u001b[43m:\u001b[49m\u001b[43m \u001b[49m\u001b[43mby\u001b[49m\u001b[43m,\u001b[49m\u001b[43m \u001b[49m\u001b[33;43m\"\u001b[39;49m\u001b[33;43mvalue\u001b[39;49m\u001b[33;43m\"\u001b[39;49m\u001b[43m:\u001b[49m\u001b[43m \u001b[49m\u001b[43mvalue\u001b[49m\u001b[43m}\u001b[49m\u001b[43m)\u001b[49m[\u001b[33m\"\u001b[39m\u001b[33mvalue\u001b[39m\u001b[33m\"\u001b[39m]\n",
      "\u001b[36mFile \u001b[39m\u001b[32m~/anaconda3/envs/football/lib/python3.13/site-packages/selenium/webdriver/remote/webelement.py:395\u001b[39m, in \u001b[36mWebElement._execute\u001b[39m\u001b[34m(self, command, params)\u001b[39m\n\u001b[32m    393\u001b[39m     params = {}\n\u001b[32m    394\u001b[39m params[\u001b[33m\"\u001b[39m\u001b[33mid\u001b[39m\u001b[33m\"\u001b[39m] = \u001b[38;5;28mself\u001b[39m._id\n\u001b[32m--> \u001b[39m\u001b[32m395\u001b[39m \u001b[38;5;28;01mreturn\u001b[39;00m \u001b[38;5;28;43mself\u001b[39;49m\u001b[43m.\u001b[49m\u001b[43m_parent\u001b[49m\u001b[43m.\u001b[49m\u001b[43mexecute\u001b[49m\u001b[43m(\u001b[49m\u001b[43mcommand\u001b[49m\u001b[43m,\u001b[49m\u001b[43m \u001b[49m\u001b[43mparams\u001b[49m\u001b[43m)\u001b[49m\n",
      "\u001b[36mFile \u001b[39m\u001b[32m~/anaconda3/envs/football/lib/python3.13/site-packages/selenium/webdriver/remote/webdriver.py:354\u001b[39m, in \u001b[36mWebDriver.execute\u001b[39m\u001b[34m(self, driver_command, params)\u001b[39m\n\u001b[32m    352\u001b[39m response = \u001b[38;5;28mself\u001b[39m.command_executor.execute(driver_command, params)\n\u001b[32m    353\u001b[39m \u001b[38;5;28;01mif\u001b[39;00m response:\n\u001b[32m--> \u001b[39m\u001b[32m354\u001b[39m     \u001b[38;5;28;43mself\u001b[39;49m\u001b[43m.\u001b[49m\u001b[43merror_handler\u001b[49m\u001b[43m.\u001b[49m\u001b[43mcheck_response\u001b[49m\u001b[43m(\u001b[49m\u001b[43mresponse\u001b[49m\u001b[43m)\u001b[49m\n\u001b[32m    355\u001b[39m     response[\u001b[33m\"\u001b[39m\u001b[33mvalue\u001b[39m\u001b[33m\"\u001b[39m] = \u001b[38;5;28mself\u001b[39m._unwrap_value(response.get(\u001b[33m\"\u001b[39m\u001b[33mvalue\u001b[39m\u001b[33m\"\u001b[39m, \u001b[38;5;28;01mNone\u001b[39;00m))\n\u001b[32m    356\u001b[39m     \u001b[38;5;28;01mreturn\u001b[39;00m response\n",
      "\u001b[36mFile \u001b[39m\u001b[32m~/anaconda3/envs/football/lib/python3.13/site-packages/selenium/webdriver/remote/errorhandler.py:229\u001b[39m, in \u001b[36mErrorHandler.check_response\u001b[39m\u001b[34m(self, response)\u001b[39m\n\u001b[32m    227\u001b[39m         alert_text = value[\u001b[33m\"\u001b[39m\u001b[33malert\u001b[39m\u001b[33m\"\u001b[39m].get(\u001b[33m\"\u001b[39m\u001b[33mtext\u001b[39m\u001b[33m\"\u001b[39m)\n\u001b[32m    228\u001b[39m     \u001b[38;5;28;01mraise\u001b[39;00m exception_class(message, screen, stacktrace, alert_text)  \u001b[38;5;66;03m# type: ignore[call-arg]  # mypy is not smart enough here\u001b[39;00m\n\u001b[32m--> \u001b[39m\u001b[32m229\u001b[39m \u001b[38;5;28;01mraise\u001b[39;00m exception_class(message, screen, stacktrace)\n",
      "\u001b[31mStaleElementReferenceException\u001b[39m: Message: stale element reference: stale element not found\n  (Session info: chrome=139.0.7258.154); For documentation on this error, please visit: https://www.selenium.dev/documentation/webdriver/troubleshooting/errors#stale-element-reference-exception\nStacktrace:\n#0 0x5bd78a3fd1da <unknown>\n#1 0x5bd789ea3780 <unknown>\n#2 0x5bd789eb6dbb <unknown>\n#3 0x5bd789eb5b72 <unknown>\n#4 0x5bd789eaacd9 <unknown>\n#5 0x5bd789ea8f1f <unknown>\n#6 0x5bd789eacc58 <unknown>\n#7 0x5bd789eacce3 <unknown>\n#8 0x5bd789ef4d25 <unknown>\n#9 0x5bd789ef54e1 <unknown>\n#10 0x5bd789ee8f76 <unknown>\n#11 0x5bd789f1adcd <unknown>\n#12 0x5bd789ee8e6a <unknown>\n#13 0x5bd789f1af6e <unknown>\n#14 0x5bd789f40bfc <unknown>\n#15 0x5bd789f1ab73 <unknown>\n#16 0x5bd789ee76e3 <unknown>\n#17 0x5bd789ee8331 <unknown>\n#18 0x5bd78a3c302b <unknown>\n#19 0x5bd78a3c6e1e <unknown>\n#20 0x5bd78a3a9f99 <unknown>\n#21 0x5bd78a3c79e8 <unknown>\n#22 0x5bd78a38e92f <unknown>\n#23 0x5bd78a3ea788 <unknown>\n#24 0x5bd78a3ea966 <unknown>\n#25 0x5bd78a3fc4f6 <unknown>\n#26 0x7b4142e9caa4 <unknown>\n#27 0x7b4142f29c3c <unknown>\n"
     ]
    }
   ],
   "source": [
    "quants = []\n",
    "#team_url = team_urls[1]\n",
    "#if True:\n",
    "for team_url in team_urls[16:17]:\n",
    "\n",
    "    service = Service(executable_path=\"/usr/local/bin/chromedriver-linux64/chromedriver\")\n",
    "    driver = webdriver.Chrome(service=service, options=chrome_options)\n",
    "    driver.get(team_url)\n",
    "    sleep(1)\n",
    "\n",
    "    no_notifs = \"/html/body/div[12]/div/div[3]/div/button[1]\"\n",
    "    cookies = \"/html/body/div[1]/div/div/div/div/div/div[2]/button[2]\"\n",
    "    while len(driver.find_elements(By.XPATH, no_notifs)) == 0:\n",
    "        sleep(0.1)\n",
    "    if len(driver.find_elements(By.XPATH, no_notifs)) != 0:\n",
    "        button = driver.find_element(By.XPATH, no_notifs)\n",
    "        button.click()\n",
    "        sleep(0.5)\n",
    "    if len(driver.find_elements(By.XPATH, cookies)) != 0:\n",
    "        button = driver.find_element(By.XPATH, cookies)\n",
    "        button.click()\n",
    "        sleep(0.5)\n",
    "\n",
    "    squad = driver.find_element(By.ID, \"team_squad\")\n",
    "    players = squad.find_elements(By.CLASS_NAME, \"staff\")\n",
    "    #player = players[0]\n",
    "    for player in players:\n",
    "    #if True:\n",
    "        player.find_element(By.CLASS_NAME, \"text\").click()\n",
    "        cnt = 0\n",
    "        while len(driver.find_elements(By.XPATH, no_notifs)) == 0 and cnt < 5:\n",
    "            cnt += 0.1\n",
    "            sleep(0.1)\n",
    "        if len(driver.find_elements(By.XPATH, no_notifs)) != 0:\n",
    "            button = driver.find_element(By.XPATH, no_notifs)\n",
    "            button.click()\n",
    "            sleep(0.5)\n",
    "        sleep(1)\n",
    "    \n",
    "        quants.append(get_team_quantities(driver))\n",
    "        driver.back()\n",
    "\n",
    "        \n",
    "quants = np.array(quants)\n",
    "\n",
    "driver.close()"
   ]
  },
  {
   "cell_type": "code",
   "execution_count": null,
   "id": "10d29a36",
   "metadata": {},
   "outputs": [
    {
     "data": {
      "text/plain": [
       "array([['', '2004', 'Brasil', 'NA', 'Esquerdo', 'Guarda Redes',\n",
       "        'Lucas Moura Alviano', '187', '83'],\n",
       "       ['Guillermo Ochoa', '1985', 'México', 'Espanha', 'Direito',\n",
       "        'Guarda Redes', 'Francisco Guillermo Ochoa Magaña', '183', '78'],\n",
       "       ['Pedro Trigueira', '1988', 'Portugal', 'NA', 'Direito',\n",
       "        'Guarda Redes', 'Pedro José da Silva Trigueira', '192', '88'],\n",
       "       ['Simão Bertelli', '1993', 'Brasil', 'NA', 'Direito',\n",
       "        'Guarda Redes', 'Simão Verza Bertelli', '187', '89'],\n",
       "       ['Fernando Fonseca', '1997', 'Portugal', 'NA', 'Direito',\n",
       "        'Defesa (Defesa Direito)', 'Fernando Manuel Ferreira Fonseca',\n",
       "        '182', '66'],\n",
       "       ['', '1999', 'Brasil', 'NA', 'Direito', 'Defesa (Defesa Direito)',\n",
       "        'Leandro Santos do Nascimento', '183', '75'],\n",
       "       ['Tomás Tavares', '2001', 'Portugal', 'Cabo Verde', 'Direito',\n",
       "        'Defesa (Defesa Direito)', 'Tomás Franco Tavares', '184', '69'],\n",
       "       ['Nacho Rodríguez', '2003', 'Uruguai', 'NA', 'Direito',\n",
       "        'Defesa (Defesa Central)', 'Ignacio Rodríguez Elduayen', '189',\n",
       "        '82'],\n",
       "       ['Jorge Teixeira', '1986', 'Portugal', 'NA', 'Direito',\n",
       "        'Defesa (Defesa Central)', 'Jorge Filipe Avelino Teixeira',\n",
       "        '188', '83'],\n",
       "       ['Thia', '2003', 'Brasil', 'NA', 'Direito',\n",
       "        'Defesa (Defesa Central) (Defesa Direito)',\n",
       "        'Thiago Figueira de Freitas', '184', '79'],\n",
       "       ['Aderllan Santos', '1989', 'Brasil', 'Portugal', 'Direito',\n",
       "        'Defesa (Defesa Central)', 'Aderllan Leandro de Jesus Santos',\n",
       "        '193', '86'],\n",
       "       ['Clayt', '2000', 'Brasil', 'NA', 'Direito',\n",
       "        'Defesa (Defesa Central)', 'Clayton Sampaio Pereira', '187',\n",
       "        '81'],\n",
       "       ['Cristian Devenish', '2001', 'Colômbia', 'NA', 'Direito',\n",
       "        'Defesa (Defesa Central)', 'Cristian David Castro Devenish',\n",
       "        '192', '86'],\n",
       "       ['Baptiste Roux', '1999', 'França', 'NA', 'Esquerdo',\n",
       "        'Defesa (Defesa Central)', 'Baptiste Clément Julien Roux', '190',\n",
       "        '76'],\n",
       "       ['Kiki Afonso', '1994', 'Portugal', 'França', 'Esquerdo',\n",
       "        'Defesa (Defesa Esquerdo)', 'Christian Neiva Afonso', '181',\n",
       "        '76'],\n",
       "       ['Eric Veiga', '1997', 'Luxemburgo', 'Portugal', 'Esquerdo',\n",
       "        'Defesa (Defesa Esquerdo)', 'Eric Veiga', '183', '75'],\n",
       "       ['Rafa Rodrigues', '2002', 'Portugal', 'NA', 'Esquerdo',\n",
       "        'Defesa (Defesa Esquerdo)', 'Rafael Vela Rodrigues', '183', '80'],\n",
       "       ['Zé Ricardo', '1998', 'Brasil', 'Espanha', 'Esquerdo',\n",
       "        'Defesa (Defesa Esquerdo)', 'José Ricardo Avelar Ribeiro', '175',\n",
       "        '68'],\n",
       "       ['Gustavo Assunção', '2000', 'Brasil', 'Portugal', 'Direito',\n",
       "        'Médio (Médio Defensivo)',\n",
       "        'Gustavo Enrique Giordano Amaro Assunção da Silva', '178', '70'],\n",
       "       ['Jaume Grau', '1997', 'Espanha', 'NA', 'Esquerdo',\n",
       "        'Médio (Médio Defensivo)', 'Jaume Grau Ciscar', '184', '72'],\n",
       "       ['Tiago Galletto', '2002', 'Uruguai', 'Espanha', 'Direito',\n",
       "        'Médio (Médio Defensivo)', 'Tiago Galletto López', '183', '76'],\n",
       "       ['Gustavo Mendonça', '2003', 'Portugal', 'NA', 'Direito',\n",
       "        'Médio (Médio Defensivo)', 'Gustavo Pinto Mendonça', '178', '74'],\n",
       "       ['Jon', '1994', 'Brasil', 'Itália', 'Esquerdo',\n",
       "        'Médio (Médio Defensivo)', 'Jonatan Lucca', '184', '77'],\n",
       "       ['Lucas Piazón', '1994', 'Brasil', 'Itália', 'Direito',\n",
       "        'Médio (Médio Ofensivo)', 'Lucas Domingues Piazón', '182', '74'],\n",
       "       ['cas', '1997', 'Brasil', 'NA', 'Direito',\n",
       "        'Médio (Médio Ofensivo)', 'Lucas Fernandes da Silva', '175',\n",
       "        '68'],\n",
       "       ['Luís Silva', '1992', 'Portugal', 'NA', 'Esquerdo',\n",
       "        'Médio (Médio Centro)', 'Luís Manuel Costa Silva', '185', '82'],\n",
       "       ['Giorgi', '1995', 'Geórgia', 'NA', 'Direito',\n",
       "        'Médio (Médio Centro)', 'Giorgi Aburjania', '186', '79'],\n",
       "       ['Vasco Lopes', '1999', 'Cabo Verde', 'Portugal', 'Esquerdo',\n",
       "        'Avançado (Extremo Direito) / Avançado (Extremo Esquerdo)',\n",
       "        'Vasco Rafael Fortes Lopes', '185', '77'],\n",
       "       ['Yair Mena', '2000', 'Colômbia', 'NA', 'Direito',\n",
       "        'Avançado (Extremo Direito) / Avançado (Extremo Esquerdo)',\n",
       "        'Yair Mena Palacios', '176', '69'],\n",
       "       ['Babatunde Akinsola', '2003', 'Nigéria', 'NA', 'Esquerdo',\n",
       "        'Avançado (Extremo Direito) / Avançado (Extremo Esquerdo)',\n",
       "        'Babatunde Jimoh Akinsola', '175', '67'],\n",
       "       ['Samu', '2000', 'Brasil', 'NA', 'Direito',\n",
       "        'Avançado (Extremo Direito) / Avançado (2.º avançado)',\n",
       "        'Samuel Salustiano de Jesus Silva', '185', '68'],\n",
       "       ['Issiaka Kamate', '2004', 'França', 'Costa do Marfim',\n",
       "        'Esquerdo',\n",
       "        'Avançado (Extremo Direito) / Avançado (2.º avançado)',\n",
       "        'Issiaka Kamate', '186', '78'],\n",
       "       ['Zé Luís', '1991', 'Cabo Verde', 'Portugal', 'Esquerdo',\n",
       "        'Avançado (Ponta de Lança)', 'José Luís Mendes Andrade', '184',\n",
       "        '88'],\n",
       "       ['Nenê', '1983', 'Brasil', 'Itália', 'Direito',\n",
       "        'Avançado (Ponta de Lança)', 'Anderson Miguel da Silva', '183',\n",
       "        '75'],\n",
       "       ['Rodrigo Ribeiro', '2005', 'Portugal', 'NA', 'Direito',\n",
       "        'Avançado (Ponta de Lança)', 'Rodrigo Duarte Ribeiro', '185',\n",
       "        '79'],\n",
       "       ['John Mercado', '2002', 'Equador', 'NA', 'Esquerdo',\n",
       "        'Avançado (Extremo Esquerdo) (Extremo Direito)',\n",
       "        'John Anthony Mercado Cuero', '186', '80'],\n",
       "       ['Gerson Rodrigues', '1995', 'Luxemburgo', 'Portugal', 'Direito',\n",
       "        'Avançado (Extremo Esquerdo) / Avançado (2.º avançado)',\n",
       "        'Gerson Leal Rodrigues Gouveia', '188', '80']], dtype='<U56')"
      ]
     },
     "execution_count": 80,
     "metadata": {},
     "output_type": "execute_result"
    }
   ],
   "source": [
    "#quants = np.array(quants)\n",
    "#quants = quants[:-41,:]\n",
    "quants"
   ]
  },
  {
   "cell_type": "code",
   "execution_count": null,
   "id": "0d8a79a2",
   "metadata": {},
   "outputs": [],
   "source": [
    "#quants = np.array(quants)[:-1, :]\n",
    "dict = {\n",
    "    \"id\": np.arange(0, len(quants)) + 1 + row_count,\n",
    "    \"display_name\": quants[:, 0],\n",
    "    \"birth_year\": quants[:, 1],\n",
    "    \"nationality\": quants[:, 2],\n",
    "    \"second_nationality\": quants[:, 3],\n",
    "    \"prefered_foot\": quants[:, 4],\n",
    "    \"position\": quants[:, 5],\n",
    "    \"full_name\": quants[:, 6],\n",
    "    \"height\": quants[:, 7],\n",
    "    \"weight\": quants[:, 8]\n",
    "}"
   ]
  },
  {
   "cell_type": "code",
   "execution_count": null,
   "id": "227b99cf",
   "metadata": {},
   "outputs": [
    {
     "data": {
      "text/plain": [
       "array(['', 'Guillermo Ochoa', 'Pedro Trigueira', 'Simão Bertelli',\n",
       "       'Fernando Fonseca', '', 'Tomás Tavares', 'Nacho Rodríguez',\n",
       "       'Jorge Teixeira', 'Thia', 'Aderllan Santos', 'Clayt',\n",
       "       'Cristian Devenish', 'Baptiste Roux', 'Kiki Afonso', 'Eric Veiga',\n",
       "       'Rafa Rodrigues', 'Zé Ricardo', 'Gustavo Assunção', 'Jaume Grau',\n",
       "       'Tiago Galletto', 'Gustavo Mendonça', 'Jon', 'Lucas Piazón', 'cas',\n",
       "       'Luís Silva', 'Giorgi', 'Vasco Lopes', 'Yair Mena',\n",
       "       'Babatunde Akinsola', 'Samu', 'Issiaka Kamate', 'Zé Luís', 'Nenê',\n",
       "       'Rodrigo Ribeiro', 'John Mercado'], dtype='<U56')"
      ]
     },
     "execution_count": 82,
     "metadata": {},
     "output_type": "execute_result"
    }
   ],
   "source": [
    "dict[\"display_name\"]"
   ]
  },
  {
   "cell_type": "code",
   "execution_count": null,
   "id": "7a43c8db",
   "metadata": {},
   "outputs": [],
   "source": [
    "with open(\"players.pkl\", \"wb\") as handle:    \n",
    "    pickle.dump(dict, handle,\n",
    "                protocol=pickle.HIGHEST_PROTOCOL) "
   ]
  },
  {
   "cell_type": "code",
   "execution_count": null,
   "id": "db00e172",
   "metadata": {},
   "outputs": [],
   "source": []
  }
 ],
 "metadata": {
  "kernelspec": {
   "display_name": "football",
   "language": "python",
   "name": "python3"
  },
  "language_info": {
   "codemirror_mode": {
    "name": "ipython",
    "version": 3
   },
   "file_extension": ".py",
   "mimetype": "text/x-python",
   "name": "python",
   "nbconvert_exporter": "python",
   "pygments_lexer": "ipython3",
   "version": "3.13.5"
  }
 },
 "nbformat": 4,
 "nbformat_minor": 5
}
