{
 "cells": [
  {
   "cell_type": "code",
   "execution_count": 1,
   "id": "3639f304",
   "metadata": {},
   "outputs": [],
   "source": [
    "import numpy as np\n",
    "import pickle\n",
    "from sqlalchemy import create_engine, inspect\n",
    "import pandas as pd\n",
    "\n",
    "table = \"players\"\n",
    "with open(f'{table}.pkl', 'rb') as handle:\n",
    "    dict = pickle.load(handle)\n",
    "\n",
    "df = pd.DataFrame(dict)\n",
    "df.index = df.id\n",
    "df.drop(columns=[\"id\"], inplace=True)"
   ]
  },
  {
   "cell_type": "code",
   "execution_count": 2,
   "id": "fc1029a5",
   "metadata": {},
   "outputs": [
    {
     "data": {
      "text/html": [
       "<div>\n",
       "<style scoped>\n",
       "    .dataframe tbody tr th:only-of-type {\n",
       "        vertical-align: middle;\n",
       "    }\n",
       "\n",
       "    .dataframe tbody tr th {\n",
       "        vertical-align: top;\n",
       "    }\n",
       "\n",
       "    .dataframe thead th {\n",
       "        text-align: right;\n",
       "    }\n",
       "</style>\n",
       "<table border=\"1\" class=\"dataframe\">\n",
       "  <thead>\n",
       "    <tr style=\"text-align: right;\">\n",
       "      <th></th>\n",
       "      <th>display_name</th>\n",
       "      <th>birth_year</th>\n",
       "      <th>nationality</th>\n",
       "      <th>second_nationality</th>\n",
       "      <th>prefered_foot</th>\n",
       "      <th>position</th>\n",
       "      <th>full_name</th>\n",
       "      <th>height</th>\n",
       "      <th>weight</th>\n",
       "    </tr>\n",
       "    <tr>\n",
       "      <th>id</th>\n",
       "      <th></th>\n",
       "      <th></th>\n",
       "      <th></th>\n",
       "      <th></th>\n",
       "      <th></th>\n",
       "      <th></th>\n",
       "      <th></th>\n",
       "      <th></th>\n",
       "      <th></th>\n",
       "    </tr>\n",
       "  </thead>\n",
       "  <tbody>\n",
       "    <tr>\n",
       "      <th>457</th>\n",
       "      <td>Lazar Radojicic</td>\n",
       "      <td>2003</td>\n",
       "      <td>Sérvia</td>\n",
       "      <td>NA</td>\n",
       "      <td>Direito</td>\n",
       "      <td>Guarda Redes</td>\n",
       "      <td>Lazar Radojicic</td>\n",
       "      <td>0</td>\n",
       "      <td>0</td>\n",
       "    </tr>\n",
       "    <tr>\n",
       "      <th>458</th>\n",
       "      <td>Matheus Teixeira</td>\n",
       "      <td>1999</td>\n",
       "      <td>Brasil</td>\n",
       "      <td>NA</td>\n",
       "      <td>Direito</td>\n",
       "      <td>Guarda Redes</td>\n",
       "      <td>Matheus Henrique Teixeira</td>\n",
       "      <td>187</td>\n",
       "      <td>79</td>\n",
       "    </tr>\n",
       "    <tr>\n",
       "      <th>459</th>\n",
       "      <td>Cezary Miszta</td>\n",
       "      <td>2001</td>\n",
       "      <td>Polónia</td>\n",
       "      <td>NA</td>\n",
       "      <td>Direito</td>\n",
       "      <td>Guarda Redes</td>\n",
       "      <td>Cezary Miszta</td>\n",
       "      <td>193</td>\n",
       "      <td>80</td>\n",
       "    </tr>\n",
       "    <tr>\n",
       "      <th>460</th>\n",
       "      <td>Jho</td>\n",
       "      <td>1991</td>\n",
       "      <td>Brasil</td>\n",
       "      <td>NA</td>\n",
       "      <td>Direito</td>\n",
       "      <td>Guarda Redes</td>\n",
       "      <td>Jhonatan Luiz da Siqueira</td>\n",
       "      <td>190</td>\n",
       "      <td>82</td>\n",
       "    </tr>\n",
       "    <tr>\n",
       "      <th>461</th>\n",
       "      <td>Antzelo Sina</td>\n",
       "      <td>2004</td>\n",
       "      <td>Albânia</td>\n",
       "      <td>Grécia</td>\n",
       "      <td>Direito</td>\n",
       "      <td>Guarda Redes</td>\n",
       "      <td>Antzelo Sina</td>\n",
       "      <td>186</td>\n",
       "      <td>76</td>\n",
       "    </tr>\n",
       "  </tbody>\n",
       "</table>\n",
       "</div>"
      ],
      "text/plain": [
       "         display_name birth_year nationality second_nationality prefered_foot  \\\n",
       "id                                                                              \n",
       "457   Lazar Radojicic       2003      Sérvia                 NA       Direito   \n",
       "458  Matheus Teixeira       1999      Brasil                 NA       Direito   \n",
       "459     Cezary Miszta       2001     Polónia                 NA       Direito   \n",
       "460               Jho       1991      Brasil                 NA       Direito   \n",
       "461      Antzelo Sina       2004     Albânia             Grécia       Direito   \n",
       "\n",
       "         position                  full_name height weight  \n",
       "id                                                          \n",
       "457  Guarda Redes            Lazar Radojicic      0      0  \n",
       "458  Guarda Redes  Matheus Henrique Teixeira    187     79  \n",
       "459  Guarda Redes              Cezary Miszta    193     80  \n",
       "460  Guarda Redes  Jhonatan Luiz da Siqueira    190     82  \n",
       "461  Guarda Redes               Antzelo Sina    186     76  "
      ]
     },
     "execution_count": 2,
     "metadata": {},
     "output_type": "execute_result"
    }
   ],
   "source": [
    "df.head()"
   ]
  },
  {
   "cell_type": "code",
   "execution_count": 3,
   "id": "d442b989",
   "metadata": {},
   "outputs": [],
   "source": [
    "df.birth_year = pd.to_numeric(df.birth_year)"
   ]
  },
  {
   "cell_type": "code",
   "execution_count": 4,
   "id": "670e8714",
   "metadata": {},
   "outputs": [],
   "source": [
    "user = \"neondb_owner\"\n",
    "password = np.loadtxt(\"./neon_password.txt\", dtype=str)\n",
    "host = \"ep-wild-night-a9bq078j-pooler.gwc.azure.neon.tech\"\n",
    "db = \"xG\"\n",
    "engine = create_engine(f'postgresql://{user}:{password}@{host}/{db}')\n"
   ]
  },
  {
   "cell_type": "code",
   "execution_count": 5,
   "id": "6816384e",
   "metadata": {},
   "outputs": [],
   "source": [
    "inspector = inspect(engine)\n"
   ]
  },
  {
   "cell_type": "code",
   "execution_count": 7,
   "id": "99ae622f",
   "metadata": {},
   "outputs": [
    {
     "data": {
      "text/plain": [
       "79"
      ]
     },
     "execution_count": 7,
     "metadata": {},
     "output_type": "execute_result"
    }
   ],
   "source": [
    "df.to_sql(table, con=engine, if_exists=\"append\")"
   ]
  },
  {
   "cell_type": "code",
   "execution_count": null,
   "id": "47d67afc",
   "metadata": {},
   "outputs": [],
   "source": []
  }
 ],
 "metadata": {
  "kernelspec": {
   "display_name": "football",
   "language": "python",
   "name": "python3"
  },
  "language_info": {
   "codemirror_mode": {
    "name": "ipython",
    "version": 3
   },
   "file_extension": ".py",
   "mimetype": "text/x-python",
   "name": "python",
   "nbconvert_exporter": "python",
   "pygments_lexer": "ipython3",
   "version": "3.13.5"
  }
 },
 "nbformat": 4,
 "nbformat_minor": 5
}
