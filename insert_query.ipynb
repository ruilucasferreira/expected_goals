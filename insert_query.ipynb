{
 "cells": [
  {
   "cell_type": "code",
   "execution_count": 2,
   "id": "3639f304",
   "metadata": {},
   "outputs": [],
   "source": [
    "import numpy as np\n",
    "import pickle\n",
    "from sqlalchemy import create_engine, inspect\n",
    "import pandas as pd\n",
    "\n",
    "table = \"players\"\n",
    "with open(f'{table}.pkl', 'rb') as handle:\n",
    "    dict = pickle.load(handle)\n",
    "\n",
    "df = pd.DataFrame(dict)\n",
    "df.index = df.id\n",
    "df.drop(columns=[\"id\"], inplace=True)"
   ]
  },
  {
   "cell_type": "code",
   "execution_count": 20,
   "id": "fc1029a5",
   "metadata": {},
   "outputs": [
    {
     "data": {
      "text/html": [
       "<div>\n",
       "<style scoped>\n",
       "    .dataframe tbody tr th:only-of-type {\n",
       "        vertical-align: middle;\n",
       "    }\n",
       "\n",
       "    .dataframe tbody tr th {\n",
       "        vertical-align: top;\n",
       "    }\n",
       "\n",
       "    .dataframe thead th {\n",
       "        text-align: right;\n",
       "    }\n",
       "</style>\n",
       "<table border=\"1\" class=\"dataframe\">\n",
       "  <thead>\n",
       "    <tr style=\"text-align: right;\">\n",
       "      <th></th>\n",
       "      <th>display_name</th>\n",
       "      <th>birth_year</th>\n",
       "      <th>nationality</th>\n",
       "      <th>second_nationality</th>\n",
       "      <th>prefered_foot</th>\n",
       "      <th>position</th>\n",
       "      <th>full_name</th>\n",
       "      <th>height</th>\n",
       "      <th>weight</th>\n",
       "    </tr>\n",
       "    <tr>\n",
       "      <th>id</th>\n",
       "      <th></th>\n",
       "      <th></th>\n",
       "      <th></th>\n",
       "      <th></th>\n",
       "      <th></th>\n",
       "      <th></th>\n",
       "      <th></th>\n",
       "      <th></th>\n",
       "      <th></th>\n",
       "    </tr>\n",
       "  </thead>\n",
       "  <tbody>\n",
       "    <tr>\n",
       "      <th>424</th>\n",
       "      <td>Kewin Silva</td>\n",
       "      <td>1995</td>\n",
       "      <td>Brasil</td>\n",
       "      <td>NA</td>\n",
       "      <td>Direito</td>\n",
       "      <td>Guarda Redes</td>\n",
       "      <td>Kewin Oliveira Silva</td>\n",
       "      <td>189</td>\n",
       "      <td>84</td>\n",
       "    </tr>\n",
       "    <tr>\n",
       "      <th>425</th>\n",
       "      <td>Mika</td>\n",
       "      <td>1991</td>\n",
       "      <td>Portugal</td>\n",
       "      <td>Suíça</td>\n",
       "      <td>Esquerdo</td>\n",
       "      <td>Guarda Redes</td>\n",
       "      <td>Michael Simões Domingues</td>\n",
       "      <td>188</td>\n",
       "      <td>82</td>\n",
       "    </tr>\n",
       "    <tr>\n",
       "      <th>426</th>\n",
       "      <td>Caio Secco</td>\n",
       "      <td>1990</td>\n",
       "      <td>Brasil</td>\n",
       "      <td>Itália</td>\n",
       "      <td>Direito</td>\n",
       "      <td>Guarda Redes</td>\n",
       "      <td>Caio Gobbo Secco</td>\n",
       "      <td>195</td>\n",
       "      <td>92</td>\n",
       "    </tr>\n",
       "    <tr>\n",
       "      <th>427</th>\n",
       "      <td>Dani Morer</td>\n",
       "      <td>1998</td>\n",
       "      <td>Espanha</td>\n",
       "      <td>Venezuela</td>\n",
       "      <td>Direito</td>\n",
       "      <td>Defesa (Defesa Direito)</td>\n",
       "      <td>Daniel Morer Cabrera</td>\n",
       "      <td>170</td>\n",
       "      <td>62</td>\n",
       "    </tr>\n",
       "    <tr>\n",
       "      <th>428</th>\n",
       "      <td>b</td>\n",
       "      <td>2000</td>\n",
       "      <td>Brasil</td>\n",
       "      <td>NA</td>\n",
       "      <td>Direito</td>\n",
       "      <td>Defesa (Defesa Direito)</td>\n",
       "      <td>Fabiano Josué de Souza Silva</td>\n",
       "      <td>174</td>\n",
       "      <td>69</td>\n",
       "    </tr>\n",
       "  </tbody>\n",
       "</table>\n",
       "</div>"
      ],
      "text/plain": [
       "    display_name birth_year nationality second_nationality prefered_foot  \\\n",
       "id                                                                         \n",
       "424  Kewin Silva       1995      Brasil                 NA       Direito   \n",
       "425         Mika       1991    Portugal              Suíça      Esquerdo   \n",
       "426   Caio Secco       1990      Brasil             Itália       Direito   \n",
       "427   Dani Morer       1998     Espanha          Venezuela       Direito   \n",
       "428            b       2000      Brasil                 NA       Direito   \n",
       "\n",
       "                    position                     full_name height weight  \n",
       "id                                                                        \n",
       "424             Guarda Redes          Kewin Oliveira Silva    189     84  \n",
       "425             Guarda Redes      Michael Simões Domingues    188     82  \n",
       "426             Guarda Redes              Caio Gobbo Secco    195     92  \n",
       "427  Defesa (Defesa Direito)          Daniel Morer Cabrera    170     62  \n",
       "428  Defesa (Defesa Direito)  Fabiano Josué de Souza Silva    174     69  "
      ]
     },
     "execution_count": 20,
     "metadata": {},
     "output_type": "execute_result"
    }
   ],
   "source": [
    "df.head()"
   ]
  },
  {
   "cell_type": "code",
   "execution_count": 15,
   "id": "d442b989",
   "metadata": {},
   "outputs": [],
   "source": [
    "df.birth_year = pd.to_numeric(df.birth_year)"
   ]
  },
  {
   "cell_type": "code",
   "execution_count": 17,
   "id": "670e8714",
   "metadata": {},
   "outputs": [],
   "source": [
    "user = \"neondb_owner\"\n",
    "password = np.loadtxt(\"./neon_password.txt\", dtype=str)\n",
    "host = \"ep-wild-night-a9bq078j-pooler.gwc.azure.neon.tech\"\n",
    "db = \"xG\"\n",
    "engine = create_engine(f'postgresql://{user}:{password}@{host}/{db}')\n"
   ]
  },
  {
   "cell_type": "code",
   "execution_count": 16,
   "id": "6816384e",
   "metadata": {},
   "outputs": [],
   "source": [
    "inspector = inspect(engine)\n"
   ]
  },
  {
   "cell_type": "code",
   "execution_count": null,
   "id": "99ae622f",
   "metadata": {},
   "outputs": [
    {
     "data": {
      "text/plain": [
       "33"
      ]
     },
     "execution_count": 18,
     "metadata": {},
     "output_type": "execute_result"
    }
   ],
   "source": [
    "#df.to_sql(table, con=engine, if_exists=\"append\")"
   ]
  },
  {
   "cell_type": "code",
   "execution_count": null,
   "id": "47d67afc",
   "metadata": {},
   "outputs": [],
   "source": []
  }
 ],
 "metadata": {
  "kernelspec": {
   "display_name": "football",
   "language": "python",
   "name": "python3"
  },
  "language_info": {
   "codemirror_mode": {
    "name": "ipython",
    "version": 3
   },
   "file_extension": ".py",
   "mimetype": "text/x-python",
   "name": "python",
   "nbconvert_exporter": "python",
   "pygments_lexer": "ipython3",
   "version": "3.13.5"
  }
 },
 "nbformat": 4,
 "nbformat_minor": 5
}
