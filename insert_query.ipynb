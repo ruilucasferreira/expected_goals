{
 "cells": [
  {
   "cell_type": "code",
   "execution_count": null,
   "id": "3639f304",
   "metadata": {},
   "outputs": [],
   "source": [
    "import numpy as np\n",
    "import pickle\n",
    "import sqlalchemy as db\n",
    "import pandas as pd\n",
    "\n",
    "table = \"players\"\n",
    "if table == \"players\":\n",
    "    join_column = \"full_name\"\n",
    "else:\n",
    "    join_column = \"name\"\n",
    "with open(f'{table}.pkl', 'rb') as handle:\n",
    "    dict = pickle.load(handle)\n",
    "\n",
    "df = pd.DataFrame(dict)\n",
    "df.index = df.id\n",
    "df.drop(columns=[\"id\"], inplace=True)"
   ]
  },
  {
   "cell_type": "code",
   "execution_count": null,
   "id": "fc1029a5",
   "metadata": {},
   "outputs": [
    {
     "ename": "NameError",
     "evalue": "name 'df' is not defined",
     "output_type": "error",
     "traceback": [
      "\u001b[31m---------------------------------------------------------------------------\u001b[39m",
      "\u001b[31mNameError\u001b[39m                                 Traceback (most recent call last)",
      "\u001b[36mCell\u001b[39m\u001b[36m \u001b[39m\u001b[32mIn[3]\u001b[39m\u001b[32m, line 1\u001b[39m\n\u001b[32m----> \u001b[39m\u001b[32m1\u001b[39m \u001b[43mdf\u001b[49m.head()\n",
      "\u001b[31mNameError\u001b[39m: name 'df' is not defined"
     ]
    }
   ],
   "source": [
    "df.head()"
   ]
  },
  {
   "cell_type": "code",
   "execution_count": null,
   "id": "d442b989",
   "metadata": {},
   "outputs": [],
   "source": [
    "df.birth_year = pd.to_numeric(df.birth_year)"
   ]
  },
  {
   "cell_type": "code",
   "execution_count": 16,
   "id": "670e8714",
   "metadata": {},
   "outputs": [],
   "source": [
    "user = \"neondb_owner\"\n",
    "password = np.loadtxt(\"./neon_password.txt\", dtype=str)\n",
    "host = \"ep-wild-night-a9bq078j-pooler.gwc.azure.neon.tech\"\n",
    "database = \"xG\"\n",
    "engine = db.create_engine(f'postgresql://{user}:{password}@{host}/{database}')\n",
    "meta_data = db.MetaData()\n",
    "meta_data.reflect(bind=engine) #extracting the metadata\n"
   ]
  },
  {
   "cell_type": "code",
   "execution_count": null,
   "id": "6816384e",
   "metadata": {},
   "outputs": [],
   "source": [
    "with engine.connect() as conn:\n",
    "    existing = pd.read_sql(table, conn)"
   ]
  },
  {
   "cell_type": "code",
   "execution_count": null,
   "id": "7348d46d",
   "metadata": {},
   "outputs": [
    {
     "data": {
      "text/html": [
       "<div>\n",
       "<style scoped>\n",
       "    .dataframe tbody tr th:only-of-type {\n",
       "        vertical-align: middle;\n",
       "    }\n",
       "\n",
       "    .dataframe tbody tr th {\n",
       "        vertical-align: top;\n",
       "    }\n",
       "\n",
       "    .dataframe thead th {\n",
       "        text-align: right;\n",
       "    }\n",
       "</style>\n",
       "<table border=\"1\" class=\"dataframe\">\n",
       "  <thead>\n",
       "    <tr style=\"text-align: right;\">\n",
       "      <th></th>\n",
       "      <th>id</th>\n",
       "      <th>display_name</th>\n",
       "      <th>nationality</th>\n",
       "      <th>second_nationality</th>\n",
       "      <th>prefered_foot</th>\n",
       "      <th>position</th>\n",
       "      <th>full_name</th>\n",
       "      <th>birth_year</th>\n",
       "      <th>height</th>\n",
       "      <th>weight</th>\n",
       "    </tr>\n",
       "  </thead>\n",
       "  <tbody>\n",
       "    <tr>\n",
       "      <th>0</th>\n",
       "      <td>1</td>\n",
       "      <td>Ander Astralaga</td>\n",
       "      <td>Espanha</td>\n",
       "      <td>NA</td>\n",
       "      <td>Direito</td>\n",
       "      <td>Guarda Redes</td>\n",
       "      <td>Ander Astralaga Aranguren</td>\n",
       "      <td>2004</td>\n",
       "      <td>190.0</td>\n",
       "      <td>82.0</td>\n",
       "    </tr>\n",
       "    <tr>\n",
       "      <th>1</th>\n",
       "      <td>3</td>\n",
       "      <td>Iñaki Peña</td>\n",
       "      <td>Espanha</td>\n",
       "      <td>NA</td>\n",
       "      <td>Direito</td>\n",
       "      <td>Guarda Redes</td>\n",
       "      <td>Ignacio Peña Sostres</td>\n",
       "      <td>1999</td>\n",
       "      <td>184.0</td>\n",
       "      <td>78.0</td>\n",
       "    </tr>\n",
       "  </tbody>\n",
       "</table>\n",
       "</div>"
      ],
      "text/plain": [
       "   id     display_name nationality second_nationality prefered_foot  \\\n",
       "0   1  Ander Astralaga     Espanha                 NA       Direito   \n",
       "1   3       Iñaki Peña     Espanha                 NA       Direito   \n",
       "\n",
       "       position                  full_name  birth_year  height  weight  \n",
       "0  Guarda Redes  Ander Astralaga Aranguren        2004   190.0    82.0  \n",
       "1  Guarda Redes       Ignacio Peña Sostres        1999   184.0    78.0  "
      ]
     },
     "execution_count": 32,
     "metadata": {},
     "output_type": "execute_result"
    }
   ],
   "source": [
    "existing_ids = df.merge(existing, left_on=\"full_name\", right_on=\"full_name\").id_x.values\n",
    "df[~np.isin(df.id.values, existing_ids)]"
   ]
  },
  {
   "cell_type": "code",
   "execution_count": null,
   "id": "657afde5",
   "metadata": {},
   "outputs": [],
   "source": [
    "df.to_sql(table, con=engine, if_exists=\"append\")"
   ]
  }
 ],
 "metadata": {
  "kernelspec": {
   "display_name": "football",
   "language": "python",
   "name": "python3"
  },
  "language_info": {
   "codemirror_mode": {
    "name": "ipython",
    "version": 3
   },
   "file_extension": ".py",
   "mimetype": "text/x-python",
   "name": "python",
   "nbconvert_exporter": "python",
   "pygments_lexer": "ipython3",
   "version": "3.13.5"
  }
 },
 "nbformat": 4,
 "nbformat_minor": 5
}
