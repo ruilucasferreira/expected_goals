{
 "cells": [
  {
   "cell_type": "code",
   "execution_count": 7,
   "id": "3639f304",
   "metadata": {},
   "outputs": [],
   "source": [
    "import numpy as np\n",
    "import pickle\n",
    "from sqlalchemy import create_engine, inspect\n",
    "import pandas as pd\n",
    "\n",
    "table = \"players\"\n",
    "with open(f'{table}.pkl', 'rb') as handle:\n",
    "    dict = pickle.load(handle)\n",
    "\n",
    "df = pd.DataFrame(dict)\n",
    "df.index = df.id\n",
    "df.drop(columns=[\"id\"], inplace=True)"
   ]
  },
  {
   "cell_type": "code",
   "execution_count": 8,
   "id": "fc1029a5",
   "metadata": {},
   "outputs": [
    {
     "data": {
      "text/html": [
       "<div>\n",
       "<style scoped>\n",
       "    .dataframe tbody tr th:only-of-type {\n",
       "        vertical-align: middle;\n",
       "    }\n",
       "\n",
       "    .dataframe tbody tr th {\n",
       "        vertical-align: top;\n",
       "    }\n",
       "\n",
       "    .dataframe thead th {\n",
       "        text-align: right;\n",
       "    }\n",
       "</style>\n",
       "<table border=\"1\" class=\"dataframe\">\n",
       "  <thead>\n",
       "    <tr style=\"text-align: right;\">\n",
       "      <th></th>\n",
       "      <th>display_name</th>\n",
       "      <th>birth_year</th>\n",
       "      <th>nationality</th>\n",
       "      <th>second_nationality</th>\n",
       "      <th>prefered_foot</th>\n",
       "      <th>position</th>\n",
       "      <th>full_name</th>\n",
       "      <th>height</th>\n",
       "      <th>weight</th>\n",
       "    </tr>\n",
       "    <tr>\n",
       "      <th>id</th>\n",
       "      <th></th>\n",
       "      <th></th>\n",
       "      <th></th>\n",
       "      <th></th>\n",
       "      <th></th>\n",
       "      <th></th>\n",
       "      <th></th>\n",
       "      <th></th>\n",
       "      <th></th>\n",
       "    </tr>\n",
       "  </thead>\n",
       "  <tbody>\n",
       "    <tr>\n",
       "      <th>653</th>\n",
       "      <td></td>\n",
       "      <td>2004</td>\n",
       "      <td>Brasil</td>\n",
       "      <td>NA</td>\n",
       "      <td>Esquerdo</td>\n",
       "      <td>Guarda Redes</td>\n",
       "      <td>Lucas Moura Alviano</td>\n",
       "      <td>187</td>\n",
       "      <td>83</td>\n",
       "    </tr>\n",
       "    <tr>\n",
       "      <th>654</th>\n",
       "      <td>Guillermo Ochoa</td>\n",
       "      <td>1985</td>\n",
       "      <td>México</td>\n",
       "      <td>Espanha</td>\n",
       "      <td>Direito</td>\n",
       "      <td>Guarda Redes</td>\n",
       "      <td>Francisco Guillermo Ochoa Magaña</td>\n",
       "      <td>183</td>\n",
       "      <td>78</td>\n",
       "    </tr>\n",
       "    <tr>\n",
       "      <th>655</th>\n",
       "      <td>Pedro Trigueira</td>\n",
       "      <td>1988</td>\n",
       "      <td>Portugal</td>\n",
       "      <td>NA</td>\n",
       "      <td>Direito</td>\n",
       "      <td>Guarda Redes</td>\n",
       "      <td>Pedro José da Silva Trigueira</td>\n",
       "      <td>192</td>\n",
       "      <td>88</td>\n",
       "    </tr>\n",
       "    <tr>\n",
       "      <th>656</th>\n",
       "      <td>Simão Bertelli</td>\n",
       "      <td>1993</td>\n",
       "      <td>Brasil</td>\n",
       "      <td>NA</td>\n",
       "      <td>Direito</td>\n",
       "      <td>Guarda Redes</td>\n",
       "      <td>Simão Verza Bertelli</td>\n",
       "      <td>187</td>\n",
       "      <td>89</td>\n",
       "    </tr>\n",
       "    <tr>\n",
       "      <th>657</th>\n",
       "      <td>Fernando Fonseca</td>\n",
       "      <td>1997</td>\n",
       "      <td>Portugal</td>\n",
       "      <td>NA</td>\n",
       "      <td>Direito</td>\n",
       "      <td>Defesa (Defesa Direito)</td>\n",
       "      <td>Fernando Manuel Ferreira Fonseca</td>\n",
       "      <td>182</td>\n",
       "      <td>66</td>\n",
       "    </tr>\n",
       "  </tbody>\n",
       "</table>\n",
       "</div>"
      ],
      "text/plain": [
       "         display_name birth_year nationality second_nationality prefered_foot  \\\n",
       "id                                                                              \n",
       "653                         2004      Brasil                 NA      Esquerdo   \n",
       "654   Guillermo Ochoa       1985      México            Espanha       Direito   \n",
       "655   Pedro Trigueira       1988    Portugal                 NA       Direito   \n",
       "656    Simão Bertelli       1993      Brasil                 NA       Direito   \n",
       "657  Fernando Fonseca       1997    Portugal                 NA       Direito   \n",
       "\n",
       "                    position                         full_name height weight  \n",
       "id                                                                            \n",
       "653             Guarda Redes               Lucas Moura Alviano    187     83  \n",
       "654             Guarda Redes  Francisco Guillermo Ochoa Magaña    183     78  \n",
       "655             Guarda Redes     Pedro José da Silva Trigueira    192     88  \n",
       "656             Guarda Redes              Simão Verza Bertelli    187     89  \n",
       "657  Defesa (Defesa Direito)  Fernando Manuel Ferreira Fonseca    182     66  "
      ]
     },
     "execution_count": 8,
     "metadata": {},
     "output_type": "execute_result"
    }
   ],
   "source": [
    "df.head()"
   ]
  },
  {
   "cell_type": "code",
   "execution_count": 9,
   "id": "d442b989",
   "metadata": {},
   "outputs": [],
   "source": [
    "df.birth_year = pd.to_numeric(df.birth_year)"
   ]
  },
  {
   "cell_type": "code",
   "execution_count": 10,
   "id": "670e8714",
   "metadata": {},
   "outputs": [],
   "source": [
    "user = \"neondb_owner\"\n",
    "password = np.loadtxt(\"./neon_password.txt\", dtype=str)\n",
    "host = \"ep-wild-night-a9bq078j-pooler.gwc.azure.neon.tech\"\n",
    "db = \"xG\"\n",
    "engine = create_engine(f'postgresql://{user}:{password}@{host}/{db}')\n"
   ]
  },
  {
   "cell_type": "code",
   "execution_count": 11,
   "id": "6816384e",
   "metadata": {},
   "outputs": [],
   "source": [
    "inspector = inspect(engine)\n"
   ]
  },
  {
   "cell_type": "code",
   "execution_count": 12,
   "id": "99ae622f",
   "metadata": {},
   "outputs": [
    {
     "data": {
      "text/plain": [
       "36"
      ]
     },
     "execution_count": 12,
     "metadata": {},
     "output_type": "execute_result"
    }
   ],
   "source": [
    "df.to_sql(table, con=engine, if_exists=\"append\")"
   ]
  },
  {
   "cell_type": "code",
   "execution_count": null,
   "id": "47d67afc",
   "metadata": {},
   "outputs": [],
   "source": []
  }
 ],
 "metadata": {
  "kernelspec": {
   "display_name": "football",
   "language": "python",
   "name": "python3"
  },
  "language_info": {
   "codemirror_mode": {
    "name": "ipython",
    "version": 3
   },
   "file_extension": ".py",
   "mimetype": "text/x-python",
   "name": "python",
   "nbconvert_exporter": "python",
   "pygments_lexer": "ipython3",
   "version": "3.13.5"
  }
 },
 "nbformat": 4,
 "nbformat_minor": 5
}
