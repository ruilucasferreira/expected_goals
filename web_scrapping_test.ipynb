{
 "cells": [
  {
   "cell_type": "code",
   "execution_count": 378,
   "id": "ee5e1979",
   "metadata": {},
   "outputs": [],
   "source": [
    "#import pytest\n",
    "import numpy as np\n",
    "import matplotlib.pyplot as plt\n",
    "import pandas as pd\n",
    "from bs4 import BeautifulSoup\n",
    "import pickle \n",
    "\n",
    "import os\n",
    "\n",
    "from selenium.webdriver.common.by import By\n",
    "from selenium.webdriver.chrome.service import Service\n",
    "#from selenium.webdriver.chrome.options import Options\n",
    "from selenium import webdriver\n",
    "from time import sleep"
   ]
  },
  {
   "cell_type": "code",
   "execution_count": 379,
   "id": "af06b74e",
   "metadata": {},
   "outputs": [],
   "source": [
    "def get_team_quantities(driver):\n",
    "    name = driver.find_element(By.XPATH, \"/html/body/div[8]/div[3]/div[4]/div/div/div[1]/div[2]/h1/span\").text[:-10]\n",
    "    if len(driver.find_elements(By.XPATH, \"/html/body/div[8]/div[3]/div[4]/div/div/div[1]/div[2]/div[1]/img\")) != 0:\n",
    "        country = driver.find_element(By.XPATH, \"/html/body/div[8]/div[3]/div[4]/div/div/div[1]/div[2]/div[2]/div[1]/div/div[2]\").text\n",
    "        city_text = driver.find_element(By.XPATH, \"/html/body/div[8]/div[3]/div[4]/div/div/div[1]/div[2]/div[2]/div[2]\").text[2:]\n",
    "        city = city_text[0:city_text.find(\"\\n\")]\n",
    "    else:\n",
    "        country = driver.find_element(By.XPATH, \"/html/body/div[8]/div[3]/div[4]/div/div/div[1]/div[2]/div[1]/div[1]/div/div[2]\").text\n",
    "        city_text = driver.find_element(By.XPATH, \"/html/body/div[8]/div[3]/div[4]/div/div/div[1]/div[2]/div[1]/div[2]\").text[2:]\n",
    "        city = city_text[0:city_text.find(\"\\n\")]\n",
    "    display_name = driver.find_element(By.XPATH, \"/html/body/div[8]/div[3]/div[5]/div/div/div[2]/div[2]/div/div[1]\").text[5:]\n",
    "    acronym = [char for char in display_name if char.isupper() ]\n",
    "    acronym = ''.join(acronym)\n",
    "\n",
    "    logo = driver.find_element(By.XPATH, \"/html/body/div[8]/div[3]/div[4]/div/div/div[1]/div[1]/div/div/div/a/img\").get_attribute(\"src\")\n",
    "    \n",
    "    return [name, display_name, acronym, logo, country, city]"
   ]
  },
  {
   "cell_type": "code",
   "execution_count": 380,
   "id": "3acf67e2",
   "metadata": {},
   "outputs": [],
   "source": [
    "league_url = \"https://www.zerozero.pt/edicao/liga-portugal-betclic-2024-25/187713\"\n"
   ]
  },
  {
   "cell_type": "code",
   "execution_count": 382,
   "id": "cfafe534",
   "metadata": {},
   "outputs": [
    {
     "ename": "NoSuchWindowException",
     "evalue": "Message: no such window: target window already closed\nfrom unknown error: web view not found\n  (Session info: chrome=139.0.7258.138)\nStacktrace:\n#0 0x5f273be161da <unknown>\n#1 0x5f273b8bc780 <unknown>\n#2 0x5f273b891790 <unknown>\n#3 0x5f273b93c078 <unknown>\n#4 0x5f273b95959c <unknown>\n#5 0x5f273b933b73 <unknown>\n#6 0x5f273b9006e3 <unknown>\n#7 0x5f273b901331 <unknown>\n#8 0x5f273bddc02b <unknown>\n#9 0x5f273bddfe1e <unknown>\n#10 0x5f273bdc2f99 <unknown>\n#11 0x5f273bde09e8 <unknown>\n#12 0x5f273bda792f <unknown>\n#13 0x5f273be03788 <unknown>\n#14 0x5f273be03966 <unknown>\n#15 0x5f273be154f6 <unknown>\n#16 0x70b82d09caa4 <unknown>\n#17 0x70b82d129c3c <unknown>\n",
     "output_type": "error",
     "traceback": [
      "\u001b[31m---------------------------------------------------------------------------\u001b[39m",
      "\u001b[31mNoSuchWindowException\u001b[39m                     Traceback (most recent call last)",
      "\u001b[36mCell\u001b[39m\u001b[36m \u001b[39m\u001b[32mIn[382]\u001b[39m\u001b[32m, line 9\u001b[39m\n\u001b[32m      6\u001b[39m no_notifs = \u001b[33m\"\u001b[39m\u001b[33m/html/body/div[12]/div/div[3]/div/button[1]\u001b[39m\u001b[33m\"\u001b[39m\n\u001b[32m      7\u001b[39m cookies = \u001b[33m\"\u001b[39m\u001b[33m/html/body/div[1]/div/div/div/div/div/div[2]/button[2]\u001b[39m\u001b[33m\"\u001b[39m\n\u001b[32m----> \u001b[39m\u001b[32m9\u001b[39m \u001b[38;5;28;01mwhile\u001b[39;00m \u001b[38;5;28mlen\u001b[39m(\u001b[43mdriver\u001b[49m\u001b[43m.\u001b[49m\u001b[43mfind_elements\u001b[49m\u001b[43m(\u001b[49m\u001b[43mBy\u001b[49m\u001b[43m.\u001b[49m\u001b[43mXPATH\u001b[49m\u001b[43m,\u001b[49m\u001b[43m \u001b[49m\u001b[43mno_notifs\u001b[49m\u001b[43m)\u001b[49m) == \u001b[32m0\u001b[39m:\n\u001b[32m     10\u001b[39m     sleep(\u001b[32m0.1\u001b[39m)\n\u001b[32m     11\u001b[39m \u001b[38;5;28;01mif\u001b[39;00m \u001b[38;5;28mlen\u001b[39m(driver.find_elements(By.XPATH, no_notifs)) != \u001b[32m0\u001b[39m:\n",
      "\u001b[36mFile \u001b[39m\u001b[32m~/anaconda3/envs/football/lib/python3.13/site-packages/selenium/webdriver/remote/webdriver.py:778\u001b[39m, in \u001b[36mWebDriver.find_elements\u001b[39m\u001b[34m(self, by, value)\u001b[39m\n\u001b[32m    774\u001b[39m     value = \u001b[33mf\u001b[39m\u001b[33m'\u001b[39m\u001b[33m[name=\u001b[39m\u001b[33m\"\u001b[39m\u001b[38;5;132;01m{\u001b[39;00mvalue\u001b[38;5;132;01m}\u001b[39;00m\u001b[33m\"\u001b[39m\u001b[33m]\u001b[39m\u001b[33m'\u001b[39m\n\u001b[32m    776\u001b[39m \u001b[38;5;66;03m# Return empty list if driver returns null\u001b[39;00m\n\u001b[32m    777\u001b[39m \u001b[38;5;66;03m# See https://github.com/SeleniumHQ/selenium/issues/4555\u001b[39;00m\n\u001b[32m--> \u001b[39m\u001b[32m778\u001b[39m \u001b[38;5;28;01mreturn\u001b[39;00m \u001b[38;5;28;43mself\u001b[39;49m\u001b[43m.\u001b[49m\u001b[43mexecute\u001b[49m\u001b[43m(\u001b[49m\u001b[43mCommand\u001b[49m\u001b[43m.\u001b[49m\u001b[43mFIND_ELEMENTS\u001b[49m\u001b[43m,\u001b[49m\u001b[43m \u001b[49m\u001b[43m{\u001b[49m\u001b[33;43m\"\u001b[39;49m\u001b[33;43musing\u001b[39;49m\u001b[33;43m\"\u001b[39;49m\u001b[43m:\u001b[49m\u001b[43m \u001b[49m\u001b[43mby\u001b[49m\u001b[43m,\u001b[49m\u001b[43m \u001b[49m\u001b[33;43m\"\u001b[39;49m\u001b[33;43mvalue\u001b[39;49m\u001b[33;43m\"\u001b[39;49m\u001b[43m:\u001b[49m\u001b[43m \u001b[49m\u001b[43mvalue\u001b[49m\u001b[43m}\u001b[49m\u001b[43m)\u001b[49m[\u001b[33m\"\u001b[39m\u001b[33mvalue\u001b[39m\u001b[33m\"\u001b[39m] \u001b[38;5;129;01mor\u001b[39;00m []\n",
      "\u001b[36mFile \u001b[39m\u001b[32m~/anaconda3/envs/football/lib/python3.13/site-packages/selenium/webdriver/remote/webdriver.py:354\u001b[39m, in \u001b[36mWebDriver.execute\u001b[39m\u001b[34m(self, driver_command, params)\u001b[39m\n\u001b[32m    352\u001b[39m response = \u001b[38;5;28mself\u001b[39m.command_executor.execute(driver_command, params)\n\u001b[32m    353\u001b[39m \u001b[38;5;28;01mif\u001b[39;00m response:\n\u001b[32m--> \u001b[39m\u001b[32m354\u001b[39m     \u001b[38;5;28;43mself\u001b[39;49m\u001b[43m.\u001b[49m\u001b[43merror_handler\u001b[49m\u001b[43m.\u001b[49m\u001b[43mcheck_response\u001b[49m\u001b[43m(\u001b[49m\u001b[43mresponse\u001b[49m\u001b[43m)\u001b[49m\n\u001b[32m    355\u001b[39m     response[\u001b[33m\"\u001b[39m\u001b[33mvalue\u001b[39m\u001b[33m\"\u001b[39m] = \u001b[38;5;28mself\u001b[39m._unwrap_value(response.get(\u001b[33m\"\u001b[39m\u001b[33mvalue\u001b[39m\u001b[33m\"\u001b[39m, \u001b[38;5;28;01mNone\u001b[39;00m))\n\u001b[32m    356\u001b[39m     \u001b[38;5;28;01mreturn\u001b[39;00m response\n",
      "\u001b[36mFile \u001b[39m\u001b[32m~/anaconda3/envs/football/lib/python3.13/site-packages/selenium/webdriver/remote/errorhandler.py:229\u001b[39m, in \u001b[36mErrorHandler.check_response\u001b[39m\u001b[34m(self, response)\u001b[39m\n\u001b[32m    227\u001b[39m         alert_text = value[\u001b[33m\"\u001b[39m\u001b[33malert\u001b[39m\u001b[33m\"\u001b[39m].get(\u001b[33m\"\u001b[39m\u001b[33mtext\u001b[39m\u001b[33m\"\u001b[39m)\n\u001b[32m    228\u001b[39m     \u001b[38;5;28;01mraise\u001b[39;00m exception_class(message, screen, stacktrace, alert_text)  \u001b[38;5;66;03m# type: ignore[call-arg]  # mypy is not smart enough here\u001b[39;00m\n\u001b[32m--> \u001b[39m\u001b[32m229\u001b[39m \u001b[38;5;28;01mraise\u001b[39;00m exception_class(message, screen, stacktrace)\n",
      "\u001b[31mNoSuchWindowException\u001b[39m: Message: no such window: target window already closed\nfrom unknown error: web view not found\n  (Session info: chrome=139.0.7258.138)\nStacktrace:\n#0 0x5f273be161da <unknown>\n#1 0x5f273b8bc780 <unknown>\n#2 0x5f273b891790 <unknown>\n#3 0x5f273b93c078 <unknown>\n#4 0x5f273b95959c <unknown>\n#5 0x5f273b933b73 <unknown>\n#6 0x5f273b9006e3 <unknown>\n#7 0x5f273b901331 <unknown>\n#8 0x5f273bddc02b <unknown>\n#9 0x5f273bddfe1e <unknown>\n#10 0x5f273bdc2f99 <unknown>\n#11 0x5f273bde09e8 <unknown>\n#12 0x5f273bda792f <unknown>\n#13 0x5f273be03788 <unknown>\n#14 0x5f273be03966 <unknown>\n#15 0x5f273be154f6 <unknown>\n#16 0x70b82d09caa4 <unknown>\n#17 0x70b82d129c3c <unknown>\n"
     ]
    }
   ],
   "source": [
    "service = Service(executable_path=\"/usr/local/bin/chromedriver-linux64/chromedriver\")\n",
    "driver = webdriver.Chrome(service=service)\n",
    "driver.get(league_url)\n",
    "sleep(1)\n",
    "\n",
    "no_notifs = \"/html/body/div[12]/div/div[3]/div/button[1]\"\n",
    "cookies = \"/html/body/div[1]/div/div/div/div/div/div[2]/button[2]\"\n",
    "\n",
    "while len(driver.find_elements(By.XPATH, no_notifs)) == 0:\n",
    "    sleep(0.1)\n",
    "if len(driver.find_elements(By.XPATH, no_notifs)) != 0:\n",
    "    button = driver.find_element(By.XPATH, no_notifs)\n",
    "    button.click()\n",
    "    sleep(0.5)\n",
    "if len(driver.find_elements(By.XPATH, cookies)) != 0:\n",
    "    button = driver.find_element(By.XPATH, cookies)\n",
    "    button.click()\n",
    "    sleep(0.5)\n"
   ]
  },
  {
   "cell_type": "code",
   "execution_count": null,
   "id": "d7836bbe",
   "metadata": {},
   "outputs": [],
   "source": [
    "table_xpath = \"/html/body/div[8]/div[3]/div[6]/div/div/div[1]/div[2]/table/tbody/tr/td/div[1]/div/table/tbody\"\n",
    "body = driver.find_element(By.XPATH, table_xpath)\n",
    "\n",
    "rows = body.find_elements(By.TAG_NAME, \"tr\")\n",
    "team_urls = [ rows[i].find_elements(By.TAG_NAME, \"a\")[1].get_attribute(\"href\") for i in range(len(rows)) ]\n",
    "\n",
    "driver.close()"
   ]
  },
  {
   "cell_type": "code",
   "execution_count": null,
   "id": "f29f4788",
   "metadata": {},
   "outputs": [],
   "source": [
    "quants = []\n",
    "#team_url = team_urls[5]\n",
    "for team_url in team_urls:\n",
    "\n",
    "    service = Service(executable_path=\"/usr/local/bin/chromedriver-linux64/chromedriver\")\n",
    "    driver = webdriver.Chrome(service=service)\n",
    "    driver.get(team_url)\n",
    "    sleep(1)\n",
    "\n",
    "    no_notifs = \"/html/body/div[12]/div/div[3]/div/button[1]\"\n",
    "    cookies = \"/html/body/div[1]/div/div/div/div/div/div[2]/button[2]\"\n",
    "    while len(driver.find_elements(By.XPATH, no_notifs)) == 0:\n",
    "        sleep(0.1)\n",
    "    if len(driver.find_elements(By.XPATH, no_notifs)) != 0:\n",
    "        button = driver.find_element(By.XPATH, no_notifs)\n",
    "        button.click()\n",
    "        sleep(0.5)\n",
    "    if len(driver.find_elements(By.XPATH, cookies)) != 0:\n",
    "        button = driver.find_element(By.XPATH, cookies)\n",
    "        button.click()\n",
    "        sleep(0.5)\n",
    "\n",
    "    quants.append(get_team_quantities(driver))\n",
    "\n",
    "    driver.close()\n",
    "\n",
    "quants = np.array(quants)"
   ]
  },
  {
   "cell_type": "code",
   "execution_count": null,
   "id": "71452130",
   "metadata": {},
   "outputs": [],
   "source": [
    "dict = {\n",
    "    \"id\": np.arange(0, len(quants))+1,\n",
    "    \"display_name\": quants[:, 0],\n",
    "    \"name\": quants[:, 1],\n",
    "    \"acronym\": quants[:,2],\n",
    "    \"logo\": quants[:,3],\n",
    "    \"country\": quants[:,4],\n",
    "    \"city\": quants[:, 5]\n",
    "}\n",
    "\n",
    "with open(\"portugal_teams.pkl\", \"wb\") as handle:    \n",
    "    pickle.dump(dict, handle,\n",
    "                protocol=pickle.HIGHEST_PROTOCOL) \n"
   ]
  },
  {
   "cell_type": "code",
   "execution_count": null,
   "id": "d8eb4171",
   "metadata": {},
   "outputs": [],
   "source": []
  }
 ],
 "metadata": {
  "kernelspec": {
   "display_name": "football",
   "language": "python",
   "name": "python3"
  },
  "language_info": {
   "codemirror_mode": {
    "name": "ipython",
    "version": 3
   },
   "file_extension": ".py",
   "mimetype": "text/x-python",
   "name": "python",
   "nbconvert_exporter": "python",
   "pygments_lexer": "ipython3",
   "version": "3.13.5"
  }
 },
 "nbformat": 4,
 "nbformat_minor": 5
}
